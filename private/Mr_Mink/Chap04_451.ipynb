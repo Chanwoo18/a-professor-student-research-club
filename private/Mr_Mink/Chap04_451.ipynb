{
  "nbformat": 4,
  "nbformat_minor": 0,
  "metadata": {
    "colab": {
      "provenance": []
    },
    "kernelspec": {
      "name": "python3",
      "display_name": "Python 3"
    },
    "language_info": {
      "name": "python"
    },
    "accelerator": "GPU",
    "gpuClass": "standard"
  },
  "cells": [
    {
      "cell_type": "code",
      "source": [
        "# pip install fastbook"
      ],
      "metadata": {
        "id": "S8YoMPLjksG2"
      },
      "execution_count": 1,
      "outputs": []
    },
    {
      "cell_type": "code",
      "source": [
        "from fastai.vision.all import *\n",
        "\n",
        "path= untar_data(URLs.MNIST_SAMPLE)\n",
        "threes= (path/'train'/'3').ls().sorted()\n",
        "sevens= (path/'train'/'7').ls().sorted()\n",
        "\n",
        "three_tensors= [tensor(Image.open(o)) for o in threes]\n",
        "seven_tensors= [tensor(Image.open(o)) for o in sevens]\n",
        "\n",
        "stacked_threes= torch.stack(three_tensors).float()/255\n",
        "stacked_sevens= torch.stack(seven_tensors).float()/255\n",
        "\n",
        "train_x = torch.cat([stacked_threes, stacked_sevens]).view(-1, 28 * 28)\n",
        "\n",
        "def mnist_loss(predictions, targets):\n",
        "  return torch.where(targets==1, 1-predictions, predictions).mean()\n",
        "\n",
        "valid_3_tens= torch.stack([tensor(Image.open(o)) for o in (path/'valid'/'3').ls()])\n",
        "valid_7_tens= torch.stack([tensor(Image.open(o)) for o in (path/'valid'/'7').ls()])\n",
        "\n",
        "valid_3_tens= valid_3_tens.float()/255\n",
        "valid_7_tens= valid_7_tens.float()/255"
      ],
      "metadata": {
        "id": "hXVbNEga-_mY"
      },
      "execution_count": 2,
      "outputs": []
    },
    {
      "cell_type": "code",
      "source": [
        "# #plot_function 찾기 실패, 따라서 커뮤니티의 소스코드 불러옴\n",
        "# def plot_function(f, tx=None, ty=None, title=None, min=-2, max=2, figsize=(6,4)):\n",
        "#     x = torch.linspace(min,max, 1)\n",
        "#     fig,ax = plt.subplots(figsize=figsize)\n",
        "#     ax.plot(x,f(x))\n",
        "#     if tx is not None: ax.set_xlabel(tx)\n",
        "#     if ty is not None: ax.set_ylabel(ty)\n",
        "#     if title is not None: ax.set_title(title)"
      ],
      "metadata": {
        "id": "KnFtkNkQjoKv"
      },
      "execution_count": 3,
      "outputs": []
    },
    {
      "cell_type": "markdown",
      "source": [
        "# 4.5.1 시그모이드\n",
        "##### 이전 노트에서 정의한 mnist_loss 함수는 예측이 항상 0과 1 사잇값이라고 가정하는 문제가 있다. 하지만, 값이 0과 1 사이가 되도록 강제하여 호가실히 해야한다.\n",
        "### 항상 0과 1 사이의 숫자를 출력하는 시그모이드 함수는 다음과 같이 정의된다."
      ],
      "metadata": {
        "id": "wBcraUZy9125"
      }
    },
    {
      "cell_type": "code",
      "execution_count": 4,
      "metadata": {
        "id": "u-A0S7gb9s7k"
      },
      "outputs": [],
      "source": [
        "def sigmoid(x): return 1/(1+torch.exp(-x))"
      ]
    },
    {
      "cell_type": "code",
      "source": [
        "# plot_function(torch.sigmoid, title=\"Sigmoid\", min=-4, max=4)"
      ],
      "metadata": {
        "id": "sK1Rd5-W-3B-"
      },
      "execution_count": 5,
      "outputs": []
    },
    {
      "cell_type": "markdown",
      "source": [
        "### 시그모이드 함수는\n",
        "##### 입력값은 음수부터 양수까지 제한은 없지만, 출력값은 '0과 1 사이'이다.\n",
        "##### ! 또한, 오직 '증가**만**' 하는 부드로운 곡선이다. 따라서, SGD가 의미 있는 그레디언트를 더 쉽게 찾도록 해준다.\n",
        "### 따라서, 입력된 값(예측값)에 시그모이드가 적용되도록 mnist_loss 함수를 갱신하도록 하자.\n",
        "\n"
      ],
      "metadata": {
        "id": "8zWOV82fmA-V"
      }
    },
    {
      "cell_type": "code",
      "source": [
        "def mnist_loss(predictions, targets):\n",
        "  predictions= predictions.sigmoid()\n",
        "  return torch.where(targets== 1, 1-predictions, predictions).mean()"
      ],
      "metadata": {
        "id": "IHj1yln0hH9g"
      },
      "execution_count": 6,
      "outputs": []
    },
    {
      "cell_type": "markdown",
      "source": [
        "# 4.5.2 SGD와 미니배치\n",
        "## 최적화 단계\n",
        "##### * 가중치를 갱신하는 단계\n",
        "##### ** 하나 이상의 데이터에 대한 손실을 계산해야한다.\n",
        "### 얼마나 많은 데이터가 필요?\n",
        "#### - 전체 데이터를 계산\n",
        "##### 손실 계산 후 평균 -> 시간이 오랠걸린다.\n",
        "#### - 단일 데이터만을 계산\n",
        "##### 많은 정보 활용 불가 -> 부정확, 불안정 그래디언트 계산\n",
        "### 따라서, 두 방법 모두 가중치 갱신에 문제를 겪는다.\n",
        "\n",
        "## 절충안: 미니배치학습\n",
        "##### 일정 개수의 데이터에 대한 손실의 평균을 계산한다.\n",
        "##### * 배치 크기(batch size): 미니 배치에 포함된 데이터의 개수\n",
        "### 따라서, 적당한 배치 크기를 고를 줄 알아야 한다.\n",
        "\n",
        "## 파이토치와 fastai는\n",
        "### 임의로 데이터셋을 뒤섞은 다음 미니배치를 만드는 DataLoader 클래스를 제공한다."
      ],
      "metadata": {
        "id": "EG_ORXJ2o7mZ"
      }
    },
    {
      "cell_type": "code",
      "source": [
        "coll= range(15)\n",
        "dl= DataLoader(coll, batch_size=5, shuffle= True)\n",
        "list(dl)"
      ],
      "metadata": {
        "colab": {
          "base_uri": "https://localhost:8080/"
        },
        "id": "q0p5xPZTqzQU",
        "outputId": "dbf24135-5421-45bb-a87d-8bdf5869b663"
      },
      "execution_count": 7,
      "outputs": [
        {
          "output_type": "execute_result",
          "data": {
            "text/plain": [
              "[tensor([13,  1, 11, 10,  0]),\n",
              " tensor([12,  2, 14,  7,  8]),\n",
              " tensor([5, 3, 4, 6, 9])]"
            ]
          },
          "metadata": {},
          "execution_count": 7
        }
      ]
    },
    {
      "cell_type": "markdown",
      "source": [
        "### !! 모델 학습에는 임의의 파이썬 컬렉션을 사용해서는 안된다 !!\n",
        "## 대신\n",
        "### 독립변수와 종속변수(모델의 입력과 타깃(레이블))를 포함한 컬렉션이 필요하다."
      ],
      "metadata": {
        "id": "jNW3w2-0rNZe"
      }
    },
    {
      "cell_type": "code",
      "source": [
        "ds= L(enumerate(string.ascii_lowercase))\n",
        "ds"
      ],
      "metadata": {
        "colab": {
          "base_uri": "https://localhost:8080/"
        },
        "id": "e6U3ulZQq7dB",
        "outputId": "9f3edd2c-3153-4623-bcba-c46d72dc5a41"
      },
      "execution_count": 8,
      "outputs": [
        {
          "output_type": "execute_result",
          "data": {
            "text/plain": [
              "(#26) [(0, 'a'),(1, 'b'),(2, 'c'),(3, 'd'),(4, 'e'),(5, 'f'),(6, 'g'),(7, 'h'),(8, 'i'),(9, 'j')...]"
            ]
          },
          "metadata": {},
          "execution_count": 8
        }
      ]
    },
    {
      "cell_type": "markdown",
      "source": [
        "### L(enumerate(string))\n",
        "##### L(): fastai에서 제공하는 L클래스 객체, L은 파이썬에 내장된 list를 확장하여 추가 기능을 얹은 클래스이다.(p.185참고)\n",
        "##### enumerate(obj): 입력값의 내용 순서화, (순서, 입렵값의 내용)튜플형식으로 반환한다."
      ],
      "metadata": {
        "id": "90eBj4N6sLy-"
      }
    },
    {
      "cell_type": "code",
      "source": [
        "dl= DataLoader(ds, batch_size=6, shuffle=True)\n",
        "list(dl)"
      ],
      "metadata": {
        "colab": {
          "base_uri": "https://localhost:8080/"
        },
        "id": "N3uelo36sJFi",
        "outputId": "a061b1d1-0474-45c1-bc09-75b1ca7a574f"
      },
      "execution_count": 9,
      "outputs": [
        {
          "output_type": "execute_result",
          "data": {
            "text/plain": [
              "[(tensor([ 2, 17, 14,  4, 24, 12]), ('c', 'r', 'o', 'e', 'y', 'm')),\n",
              " (tensor([ 0, 15, 11, 23,  1,  5]), ('a', 'p', 'l', 'x', 'b', 'f')),\n",
              " (tensor([20, 13,  8,  6, 19,  9]), ('u', 'n', 'i', 'g', 't', 'j')),\n",
              " (tensor([22, 21, 18, 16, 10,  7]), ('w', 'v', 's', 'q', 'k', 'h')),\n",
              " (tensor([ 3, 25]), ('d', 'z'))]"
            ]
          },
          "metadata": {},
          "execution_count": 9
        }
      ]
    },
    {
      "cell_type": "markdown",
      "source": [
        "# 4.6 모든 것을 한자리에\n",
        "### 이제 매 에포크에 구현되어야 할 과정의 코드를 작성해보자."
      ],
      "metadata": {
        "id": "U_5evbG0uMTr"
      }
    },
    {
      "cell_type": "code",
      "source": [
        "# for x, y in dl:\n",
        "#   pred= model(x)\n",
        "#   loss= loss_func(pred, y)\n",
        "#   loss.backward()\n",
        "#   parameters -= parameters.grad * lr"
      ],
      "metadata": {
        "id": "Nb8Askbo_AEc"
      },
      "execution_count": 10,
      "outputs": []
    },
    {
      "cell_type": "markdown",
      "source": [
        "### 우선 전에 작성했던 변수와 함수들부터 다시 작성"
      ],
      "metadata": {
        "id": "YKZKHNYB8rBM"
      }
    },
    {
      "cell_type": "code",
      "source": [
        "train_x= torch.cat([stacked_threes, stacked_sevens]).view(-1, 28*28)\n",
        "train_y= tensor([1]*len(threes) + [0]*len(sevens)).unsqueeze(1)\n",
        "\n",
        "dset= list(zip(train_x, train_y))\n",
        "\n",
        "valid_x= torch.cat([valid_3_tens, valid_7_tens]).view(-1, 28*28)\n",
        "valid_y= tensor([1]*len(valid_3_tens) + [0]*len(valid_7_tens)).unsqueeze(1)\n",
        "\n",
        "valid_dset= list(zip(valid_x, valid_y))\n",
        "\n",
        "def init_params(size, std=1.0): return (torch.randn(size)*std).requires_grad_()\n",
        "\n",
        "def linear1(xb): return xb@weights + bias"
      ],
      "metadata": {
        "id": "SF4ogtYwtelE"
      },
      "execution_count": 11,
      "outputs": []
    },
    {
      "cell_type": "code",
      "source": [
        "weights= init_params((28*28, 1))\n",
        "bias= init_params(1)\n",
        "\n",
        "dl= DataLoader(dset, batch_size= 256)\n",
        "xb, yb= first(dl)\n",
        "xb.shape, yb.shape"
      ],
      "metadata": {
        "colab": {
          "base_uri": "https://localhost:8080/"
        },
        "id": "aVn1vFnb8Maf",
        "outputId": "e5820194-6809-426d-8ff7-0bdd47c99142"
      },
      "execution_count": 12,
      "outputs": [
        {
          "output_type": "execute_result",
          "data": {
            "text/plain": [
              "(torch.Size([256, 784]), torch.Size([256, 1]))"
            ]
          },
          "metadata": {},
          "execution_count": 12
        }
      ]
    },
    {
      "cell_type": "code",
      "source": [
        "valid_dl= DataLoader(valid_dset, batch_size=256)"
      ],
      "metadata": {
        "id": "JCYl67hhAaSH"
      },
      "execution_count": 13,
      "outputs": []
    },
    {
      "cell_type": "code",
      "source": [
        "batch= train_x[:4]\n",
        "batch.shape"
      ],
      "metadata": {
        "colab": {
          "base_uri": "https://localhost:8080/"
        },
        "id": "1lxlunA2AlQJ",
        "outputId": "5b518317-0e6d-43a0-fddc-4dd0c6a5bff0"
      },
      "execution_count": 14,
      "outputs": [
        {
          "output_type": "execute_result",
          "data": {
            "text/plain": [
              "torch.Size([4, 784])"
            ]
          },
          "metadata": {},
          "execution_count": 14
        }
      ]
    },
    {
      "cell_type": "code",
      "source": [
        "preds= linear1(batch)\n",
        "preds"
      ],
      "metadata": {
        "colab": {
          "base_uri": "https://localhost:8080/"
        },
        "id": "xYdTPBpxCSNW",
        "outputId": "b4ef3845-6c1e-4186-d240-b7ce949f6b88"
      },
      "execution_count": 15,
      "outputs": [
        {
          "output_type": "execute_result",
          "data": {
            "text/plain": [
              "tensor([[ 6.0427],\n",
              "        [ 1.2961],\n",
              "        [-0.5092],\n",
              "        [-0.2642]], grad_fn=<AddBackward0>)"
            ]
          },
          "metadata": {},
          "execution_count": 15
        }
      ]
    },
    {
      "cell_type": "code",
      "source": [
        "loss= mnist_loss(preds, train_y[:4])\n",
        "loss"
      ],
      "metadata": {
        "colab": {
          "base_uri": "https://localhost:8080/"
        },
        "id": "M6wLgs70CUxU",
        "outputId": "7e6f659e-fad7-485c-88ff-c034d8a17c4f"
      },
      "execution_count": 16,
      "outputs": [
        {
          "output_type": "execute_result",
          "data": {
            "text/plain": [
              "tensor(0.3519, grad_fn=<MeanBackward0>)"
            ]
          },
          "metadata": {},
          "execution_count": 16
        }
      ]
    },
    {
      "cell_type": "code",
      "source": [
        "loss.backward()\n",
        "weights.grad.shape, weights.grad.mean(), bias.grad"
      ],
      "metadata": {
        "colab": {
          "base_uri": "https://localhost:8080/"
        },
        "id": "jf16u7WoCZ49",
        "outputId": "005d6844-7811-4212-eaed-9f4d0a4ac816"
      },
      "execution_count": 17,
      "outputs": [
        {
          "output_type": "execute_result",
          "data": {
            "text/plain": [
              "(torch.Size([784, 1]), tensor(-0.0253), tensor([-0.1628]))"
            ]
          },
          "metadata": {},
          "execution_count": 17
        }
      ]
    },
    {
      "cell_type": "code",
      "source": [
        "def calc_grad(xb, yb, model):\n",
        "  preds= model(xb)\n",
        "  loss= mnist_loss(preds, yb)\n",
        "  loss.backward()"
      ],
      "metadata": {
        "id": "LmzU0utqDCVy"
      },
      "execution_count": 18,
      "outputs": []
    },
    {
      "cell_type": "markdown",
      "source": [
        "##### 함수로 만든 버전을 검사해보자."
      ],
      "metadata": {
        "id": "8yUYKjznH3mk"
      }
    },
    {
      "cell_type": "code",
      "source": [
        "calc_grad(batch, train_y[:4], linear1)\n",
        "weights.grad.mean(), bias.grad"
      ],
      "metadata": {
        "colab": {
          "base_uri": "https://localhost:8080/"
        },
        "id": "JzqKtanvH2ux",
        "outputId": "63c27c1b-1c08-4e32-e10b-247f475f0fa3"
      },
      "execution_count": 21,
      "outputs": [
        {
          "output_type": "execute_result",
          "data": {
            "text/plain": [
              "(tensor(-0.1012), tensor([-0.6512]))"
            ]
          },
          "metadata": {},
          "execution_count": 21
        }
      ]
    },
    {
      "cell_type": "markdown",
      "source": [
        "##### 한번 더 호출해보면?"
      ],
      "metadata": {
        "id": "v0PsInifIK-y"
      }
    },
    {
      "cell_type": "code",
      "source": [
        "calc_grad(batch, train_y[:4], linear1)\n",
        "weights.grad.mean(), bias.grad"
      ],
      "metadata": {
        "colab": {
          "base_uri": "https://localhost:8080/"
        },
        "id": "9RU05jT7IAXx",
        "outputId": "0f60d949-24e6-4f41-e1f7-394c8c4623a5"
      },
      "execution_count": 22,
      "outputs": [
        {
          "output_type": "execute_result",
          "data": {
            "text/plain": [
              "(tensor(-0.1265), tensor([-0.8140]))"
            ]
          },
          "metadata": {},
          "execution_count": 22
        }
      ]
    },
    {
      "cell_type": "markdown",
      "source": [
        "### 그래디언트가 변화했다!?!?\n",
        "##### loss.backward는 지금 계산된 손실의 그레디언트를\n",
        "##### 앞서 계산된 그레디언트에 '더하기' 때문이다.\n",
        "##### 따라서, 이전의 그레디언트를 0으로 설정해줘야 한다."
      ],
      "metadata": {
        "id": "Rg4Ffxb4IRug"
      }
    },
    {
      "cell_type": "code",
      "source": [
        "weights.grad.zero_()\n",
        "bias.grad.zero_();"
      ],
      "metadata": {
        "id": "0OxgTsL8IQVL"
      },
      "execution_count": 23,
      "outputs": []
    },
    {
      "cell_type": "markdown",
      "source": [
        "### .zero_()\n",
        "#### 제자리연산자: '_'\n",
        "##### 파이토치 제공, 메소드 중 이름의 마지막에 밑줄이 포함된 것은\n",
        "##### 해당 객체를 제자리에서 조작한다."
      ],
      "metadata": {
        "id": "m3ZB8g5qJB0S"
      }
    },
    {
      "cell_type": "markdown",
      "source": [
        "### 이제, 그레디언트 및 학습률에 기반해 가중치와 편향을 갱신하는 단계만 남음.\n",
        "### 여기서도, 파이토치가 그레디언트를 계산하지 못하도록 조치해야 한다.\n",
        "### 텐서의 data 속성에 값을 할당하면, 파이토치는 해당 단계에서 그레디언트를 계산하지 않는다."
      ],
      "metadata": {
        "id": "AC4P5cwkJca8"
      }
    },
    {
      "cell_type": "code",
      "source": [
        "# 간단한 학습 루프\n",
        "def train_epoch(model, lr, params):\n",
        "  for xb, yb in dl:\n",
        "    calc_grad(xb, yb, model)\n",
        "    for p in params:\n",
        "      p.data -= p.grad * lr\n",
        "      p.grad.zero_()"
      ],
      "metadata": {
        "id": "AoIz3Zq4I7QN"
      },
      "execution_count": 24,
      "outputs": []
    },
    {
      "cell_type": "markdown",
      "source": [
        "### 또한 검증용 데이터셋으로 정확도를 확인하여 얼마나 이뤄지는지를 확인해야 한다.\n",
        "##### 예측 출력이 0.5보다 큰지를 확인하여 3과 7중 무엇을 의미하는지 판단할 수 있다. 따라서, 다음처럼 각 데이터에 대한 정확도를 계산할 수 있다."
      ],
      "metadata": {
        "id": "yppeihRsK6nn"
      }
    },
    {
      "cell_type": "code",
      "source": [
        "(preds>0.5).float() == train_y[:4]"
      ],
      "metadata": {
        "colab": {
          "base_uri": "https://localhost:8080/"
        },
        "id": "NGCG5-ZPKjII",
        "outputId": "227d532f-782c-4faa-d662-8de2bc00ea61"
      },
      "execution_count": 25,
      "outputs": [
        {
          "output_type": "execute_result",
          "data": {
            "text/plain": [
              "tensor([[ True],\n",
              "        [ True],\n",
              "        [False],\n",
              "        [False]])"
            ]
          },
          "metadata": {},
          "execution_count": 25
        }
      ]
    },
    {
      "cell_type": "markdown",
      "source": [
        "##### 이 방식으로 배치 단위의 평균 정확도를 계산하는 함수를 만들 수 있다."
      ],
      "metadata": {
        "id": "ghGBwQBqLXNs"
      }
    },
    {
      "cell_type": "code",
      "source": [
        "def batch_accuracy(xb, yb):\n",
        "  preds= xb.sigmoid()\n",
        "  correct= (preds>0.5) == yb\n",
        "  return correct.float().mean()"
      ],
      "metadata": {
        "id": "sZh1BWwfLUo2"
      },
      "execution_count": 26,
      "outputs": []
    },
    {
      "cell_type": "code",
      "source": [
        "batch_accuracy(linear1(batch), train_y[:4])"
      ],
      "metadata": {
        "colab": {
          "base_uri": "https://localhost:8080/"
        },
        "id": "r6bePas9Ljuu",
        "outputId": "6f9fab3e-a7a7-4e87-ff20-109466ca207c"
      },
      "execution_count": 27,
      "outputs": [
        {
          "output_type": "execute_result",
          "data": {
            "text/plain": [
              "tensor(0.5000)"
            ]
          },
          "metadata": {},
          "execution_count": 27
        }
      ]
    },
    {
      "cell_type": "markdown",
      "source": [
        "##### 그리고 검증용 데이터셋의 모든 배치에 batch_accuracy 함수를 적용해서 얻은 결과들의 평균을 구해보도록 하자."
      ],
      "metadata": {
        "id": "zaRTgNBCLqkK"
      }
    },
    {
      "cell_type": "code",
      "source": [
        "def validate_epoch(model):\n",
        "  accs= [batch_accuracy(model(xb), yb) for xb, yb in valid_dl]\n",
        "  return round(torch.stack(accs).mean().item(), 4)\n",
        "\n",
        "validate_epoch(linear1)"
      ],
      "metadata": {
        "colab": {
          "base_uri": "https://localhost:8080/"
        },
        "id": "aWAfzIbRLo9e",
        "outputId": "84ca99be-2918-484c-d3aa-93f49228b410"
      },
      "execution_count": 28,
      "outputs": [
        {
          "output_type": "execute_result",
          "data": {
            "text/plain": [
              "0.3874"
            ]
          },
          "metadata": {},
          "execution_count": 28
        }
      ]
    },
    {
      "cell_type": "markdown",
      "source": [
        "##### 여기까지가 학습을 진행하기 위한 출발점.\n",
        "### 이번에는 한 에포크 동안 모델을 학습시킨 다음 정확도가 개선도니ㅡㄴ지를 호가인해 보도록 하자."
      ],
      "metadata": {
        "id": "dPLjM_fuNT3d"
      }
    },
    {
      "cell_type": "code",
      "source": [
        "lr= 1.\n",
        "params= weights, bias\n",
        "train_epoch(linear1, lr, params)\n",
        "validate_epoch(linear1)"
      ],
      "metadata": {
        "colab": {
          "base_uri": "https://localhost:8080/"
        },
        "id": "jFXUns6SNShU",
        "outputId": "3f22cd6e-fedb-4e04-cf48-2d61c50f854e"
      },
      "execution_count": 29,
      "outputs": [
        {
          "output_type": "execute_result",
          "data": {
            "text/plain": [
              "0.5735"
            ]
          },
          "metadata": {},
          "execution_count": 29
        }
      ]
    },
    {
      "cell_type": "markdown",
      "source": [
        "##### epoch 여러번 더 반복"
      ],
      "metadata": {
        "id": "h0sYoayUNl3I"
      }
    },
    {
      "cell_type": "code",
      "source": [
        "for i in range(20):\n",
        "  train_epoch(linear1, lr, params)\n",
        "  print(validate_epoch(linear1), end='')"
      ],
      "metadata": {
        "colab": {
          "base_uri": "https://localhost:8080/"
        },
        "id": "KYitCWlhNkyk",
        "outputId": "dbcef029-ece8-46e8-dd2e-df614bd45830"
      },
      "execution_count": 30,
      "outputs": [
        {
          "output_type": "stream",
          "name": "stdout",
          "text": [
            "0.6820.84760.9120.93110.94180.94910.95060.95350.95690.95980.96130.96280.96330.96330.96380.96430.96430.96470.96520.9653"
          ]
        }
      ]
    },
    {
      "cell_type": "markdown",
      "source": [
        "##### 다음으로는 SGD 단계를 포장하여, 객체로서 다룰 수 있도록 만들어보도록 하자.\n",
        "### 파이토치는 이런 객체를 \"옵티마이저\"라고 한다."
      ],
      "metadata": {
        "id": "FTZ5DSUxN6pA"
      }
    }
  ]
}