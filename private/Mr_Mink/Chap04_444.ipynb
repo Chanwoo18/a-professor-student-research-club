{
  "nbformat": 4,
  "nbformat_minor": 0,
  "metadata": {
    "colab": {
      "provenance": []
    },
    "kernelspec": {
      "name": "python3",
      "display_name": "Python 3"
    },
    "language_info": {
      "name": "python"
    },
    "accelerator": "GPU",
    "gpuClass": "standard"
  },
  "cells": [
    {
      "cell_type": "markdown",
      "source": [
        "### 학습의 시작부터 끝까지\n",
        "##### 파라미터 초기화 -> 예측 계산 -> 손실 계산 -> 그레디언트 계산 -> 가중치 한 단계 갱신 -> 과정 반복 -> 학습 종료\n",
        "## 4.4.4 경사 하강법 요약\n",
        "##### .....................┎> [손실 측정] -> [그레디언트 계산] ┓\n",
        "##### [초기화] -> [예측] <-------------------------- [가중치 한 단계 갱신] -> [훈련 종료]\n",
        "##### 시작단계(파라미터 초기화) 에서는 (1) 모델의 가중치를 임의의 값으로 설정하거나(밑바탁부터 학습), 사전에 학습된 모델로부터 설정(전이 학습)할 수 있다.\n",
        "##### 손실 계산 -> '손실 함수'로 모델의 출력과 목표 타깃값을 비교한다.\n",
        "##### 그레디언트 -> 미적분으로 계산, 파이토치는 자동으로 계산해준다. 또한, 경사진 정도에 '학습률'을 곱해서 '한 번에 움직여야 하는 양'을 알 수 있다.\n",
        "##### 과정 반복 -> 가장 낮은 지점에 도달할 때까지 반복, 도달시 멈춘다."
      ],
      "metadata": {
        "id": "m6Ur9GK5pwrC"
      }
    },
    {
      "cell_type": "markdown",
      "source": [
        "## 4.5 MNIST 손실함수\n",
        "#### 독립변수 x들은 이미 준비되었다. 따라서, 이를 단일 텐서로 엮어 행렬의 목록(랭크3 텐서)을 만들고, 다시 벡터의 목록(랭크2 텐서)로 바꿔준다. 이 작업에는 view 메소드를 이용한다.\n",
        "##### * 파이토치의 view(): 담긴 데이터는 건드리지 않고 텐서의 모양만 바꿔줌."
      ],
      "metadata": {
        "id": "k99i0dQCuM0Q"
      }
    },
    {
      "cell_type": "code",
      "execution_count": 1,
      "metadata": {
        "id": "fzwH8V0VpWqi",
        "colab": {
          "base_uri": "https://localhost:8080/",
          "height": 38
        },
        "outputId": "1a4bcd92-8e05-4e13-9189-73dd378bbb85"
      },
      "outputs": [
        {
          "output_type": "display_data",
          "data": {
            "text/plain": [
              "<IPython.core.display.HTML object>"
            ],
            "text/html": [
              "\n",
              "<style>\n",
              "    /* Turns off some styling */\n",
              "    progress {\n",
              "        /* gets rid of default border in Firefox and Opera. */\n",
              "        border: none;\n",
              "        /* Needs to be in here for Safari polyfill so background images work as expected. */\n",
              "        background-size: auto;\n",
              "    }\n",
              "    progress:not([value]), progress:not([value])::-webkit-progress-bar {\n",
              "        background: repeating-linear-gradient(45deg, #7e7e7e, #7e7e7e 10px, #5c5c5c 10px, #5c5c5c 20px);\n",
              "    }\n",
              "    .progress-bar-interrupted, .progress-bar-interrupted::-webkit-progress-bar {\n",
              "        background: #F44336;\n",
              "    }\n",
              "</style>\n"
            ]
          },
          "metadata": {}
        },
        {
          "output_type": "display_data",
          "data": {
            "text/plain": [
              "<IPython.core.display.HTML object>"
            ],
            "text/html": [
              "\n",
              "    <div>\n",
              "      <progress value='3219456' class='' max='3214948' style='width:300px; height:20px; vertical-align: middle;'></progress>\n",
              "      100.14% [3219456/3214948 00:07&lt;00:00]\n",
              "    </div>\n",
              "    "
            ]
          },
          "metadata": {}
        }
      ],
      "source": [
        "from fastai.vision.all import *\n",
        "\n",
        "path= untar_data(URLs.MNIST_SAMPLE)\n",
        "threes= (path/'train'/'3').ls().sorted()\n",
        "sevens= (path/'train'/'7').ls().sorted()\n",
        "\n",
        "three_tensors= [tensor(Image.open(o)) for o in threes]\n",
        "seven_tensors= [tensor(Image.open(o)) for o in sevens]\n",
        "\n",
        "stacked_threes= torch.stack(three_tensors).float()/255\n",
        "stacked_sevens= torch.stack(seven_tensors).float()/255\n",
        "\n",
        "train_x = torch.cat([stacked_threes, stacked_sevens]).view(-1, 28 * 28)"
      ]
    },
    {
      "cell_type": "markdown",
      "source": [
        "### torch.cat([stacked_threes, stacked_sevens]).view(-1, 28 * 28)\n",
        "##### * torch.cat(): 원하는 dimension 방향으로 텐서를 나란하게 쌓는다. 기본 dimension 값은 0 이다.\n",
        "##### ** view(): 텐서에 담긴 데이터는 건드리지 않고, 텐서 모양만 바꿔준다.\n",
        "##### *** -1 : 해당 축을 모든 데이터에 들어맞을 만큼 크게 만든다.\n",
        "##### ****28*28: 28*28 사이즈까지."
      ],
      "metadata": {
        "id": "8OuO4C9avQiM"
      }
    },
    {
      "cell_type": "markdown",
      "source": [
        "### 각 이미지에 레이블이 필요하다.\n",
        "##### '3' 과 '7' 에는 각각 1과 0을 사용"
      ],
      "metadata": {
        "id": "u064mDEdwyXU"
      }
    },
    {
      "cell_type": "code",
      "source": [
        "train_y = tensor([1]*len(threes) + [0]*len(sevens)).unsqueeze(1)\n",
        "train_x.shape, train_y.shape"
      ],
      "metadata": {
        "id": "4MtNrZgovJdO",
        "colab": {
          "base_uri": "https://localhost:8080/"
        },
        "outputId": "2d8c06d9-18a1-4898-a5d3-50491b713441"
      },
      "execution_count": 2,
      "outputs": [
        {
          "output_type": "execute_result",
          "data": {
            "text/plain": [
              "(torch.Size([12396, 784]), torch.Size([12396, 1]))"
            ]
          },
          "metadata": {},
          "execution_count": 2
        }
      ]
    },
    {
      "cell_type": "markdown",
      "source": [
        "### tensor.unsqueeze()\n",
        "##### * squeeze함수의 반대로 1인 차원을 생성하는 함수이다. 그래서 어느 차원에 1인 차원을 생성할 지 꼭 지정해주어야한다.\n",
        "##### ** tensor.squeeze(): 차원이 1인 차원을 제거해준다. 따로 차원을 설정하지 않으면 1인 차원을 모두 제거한다. 그리고 차원을 설정해주면 그 차원만 제거한다."
      ],
      "metadata": {
        "id": "9cND6J9lxIIg"
      }
    },
    {
      "cell_type": "markdown",
      "source": [
        "### 파이토치의 Dataset은 (x,y) 튜플을 반환하기를 요구한다."
      ],
      "metadata": {
        "id": "c0d3Oqm-DiFm"
      }
    },
    {
      "cell_type": "code",
      "source": [
        "dset = list(zip(train_x, train_y))\n",
        "x, y = dset[0]\n",
        "x.shape, y"
      ],
      "metadata": {
        "id": "o4KwMgNuxFNI",
        "colab": {
          "base_uri": "https://localhost:8080/"
        },
        "outputId": "376555a8-8e20-48d1-82b1-a87161010de6"
      },
      "execution_count": 4,
      "outputs": [
        {
          "output_type": "execute_result",
          "data": {
            "text/plain": [
              "(torch.Size([784]), tensor([1]))"
            ]
          },
          "metadata": {},
          "execution_count": 4
        }
      ]
    },
    {
      "cell_type": "markdown",
      "source": [
        "### zip(list1, list2)\n",
        "##### 리스트의 인덱스끼리 묶어 '튜플'로 구성하는 함수"
      ],
      "metadata": {
        "id": "8g2F7EhbDnFq"
      }
    },
    {
      "cell_type": "code",
      "source": [
        "valid_3_tens= torch.stack([tensor(Image.open(o)) for o in (path/'valid'/'3').ls()])\n",
        "valid_7_tens= torch.stack([tensor(Image.open(o)) for o in (path/'valid'/'7').ls()])\n",
        "\n",
        "valid_3_tens= valid_3_tens.float()/255\n",
        "valid_7_tens= valid_7_tens.float()/255\n",
        "\n",
        "valid_x = torch.cat([valid_3_tens, valid_7_tens]).view(-1, 28*28)\n",
        "valid_y = tensor([1]*len(valid_3_tens) + [0]*len(valid_7_tens)).unsqueeze(1)\n",
        "valid_dset = list(zip(valid_x, valid_y))"
      ],
      "metadata": {
        "id": "Vp53H_nXD2el"
      },
      "execution_count": 6,
      "outputs": []
    },
    {
      "cell_type": "markdown",
      "source": [
        "### 이번에는 각 픽셀에 임의로 초기화된 가중치가 필요하다(7단계중 초기화 단계)."
      ],
      "metadata": {
        "id": "kQjnmDLHEQ0e"
      }
    },
    {
      "cell_type": "code",
      "source": [
        "def init_params(size, std=1.0): return (torch.randn(size)*std).requires_grad_()\n",
        "\n",
        "weights = init_params((28*28, 1))"
      ],
      "metadata": {
        "id": "W3PVjV05EcJ7"
      },
      "execution_count": 7,
      "outputs": []
    },
    {
      "cell_type": "markdown",
      "source": [
        "### (torch.randn(size)*std).requires_grad_()\n",
        "##### randn(size): 정수 랜덤값으로 초기화\n",
        "##### requires_grad_(): 미분 필요 태그 삽입\n",
        "### weights * pixels 형식의 함수는 충분히 유연하지 않다.\n",
        "##### (픽셀값이 0이라면 곱한 결과는 항상 0이 되기 때문; 직선 방정식 'y=w*x+b'에서 b(bias)를 기억하라.)\n",
        "##### b 또한 임의의 숫자로 초기화"
      ],
      "metadata": {
        "id": "zvaOsXnAExV6"
      }
    },
    {
      "cell_type": "code",
      "source": [
        "bias = init_params(1)"
      ],
      "metadata": {
        "id": "1ghe1N4YFjWK"
      },
      "execution_count": 8,
      "outputs": []
    },
    {
      "cell_type": "markdown",
      "source": [
        "### y = w*x + b\n",
        "##### w: 가중치(weight)\n",
        "##### b: 편향(bias)\n",
        "##### w 와 b 를 통틀어 파라미터(parameter)라고 한다.\n",
        "### .\n",
        "### 이제는 단일 이미지에 대한 예측을 계산할 수 있다."
      ],
      "metadata": {
        "id": "QBTRjJBhFsV7"
      }
    },
    {
      "cell_type": "code",
      "source": [
        "(train_x[0] * weights.T).sum() + bias"
      ],
      "metadata": {
        "id": "qcf2Pr-bF5v5",
        "colab": {
          "base_uri": "https://localhost:8080/"
        },
        "outputId": "70a476d4-eac8-4469-9836-5bc384aa69b4"
      },
      "execution_count": 9,
      "outputs": [
        {
          "output_type": "execute_result",
          "data": {
            "text/plain": [
              "tensor([-1.7580], grad_fn=<AddBackward0>)"
            ]
          },
          "metadata": {},
          "execution_count": 9
        }
      ]
    },
    {
      "cell_type": "markdown",
      "source": [
        "##### * 파이썬에서는 @연산자가 행렬 곱셈을 표현."
      ],
      "metadata": {
        "id": "MrH8vf8BGeLi"
      }
    },
    {
      "cell_type": "markdown",
      "source": [
        "### 시도해보기"
      ],
      "metadata": {
        "id": "6RTZfWzZFi92"
      }
    },
    {
      "cell_type": "code",
      "source": [
        "def linear1(xb): return xb@weights + bias\n",
        "preds = linear1(train_x)\n",
        "preds"
      ],
      "metadata": {
        "colab": {
          "base_uri": "https://localhost:8080/"
        },
        "id": "aR9CVwrTB8fc",
        "outputId": "4306bd41-89ee-4cb8-e465-0b73c6691c3e"
      },
      "execution_count": 10,
      "outputs": [
        {
          "output_type": "execute_result",
          "data": {
            "text/plain": [
              "tensor([[ -1.7580],\n",
              "        [-10.3833],\n",
              "        [ -3.8600],\n",
              "        ...,\n",
              "        [  1.6266],\n",
              "        [  0.9342],\n",
              "        [ -1.4529]], grad_fn=<AddBackward0>)"
            ]
          },
          "metadata": {},
          "execution_count": 10
        }
      ]
    },
    {
      "cell_type": "markdown",
      "source": [
        "### return xb @ weights + bias\n",
        "##### * batch @ weights + bias\n",
        "##### ** 활성화 함수(모든 신경망의 가장 기본인 두 방정식 중 하나.)"
      ],
      "metadata": {
        "id": "HfktSVx8FCBe"
      }
    },
    {
      "cell_type": "markdown",
      "source": [
        "### 정확도를 검사해보자.\n",
        "##### * 3 또는 7인지를 판단하려면, 출력값이 0.5보다 큰지를 검사하면 된다."
      ],
      "metadata": {
        "id": "j8iYiK55Fr_z"
      }
    },
    {
      "cell_type": "code",
      "source": [
        "corrects= (preds> 0.5).float()== train_y\n",
        "corrects"
      ],
      "metadata": {
        "colab": {
          "base_uri": "https://localhost:8080/"
        },
        "id": "2XZEuFH7EkzZ",
        "outputId": "d6919f17-9ffe-48d1-f15c-54e36a4b70c0"
      },
      "execution_count": 11,
      "outputs": [
        {
          "output_type": "execute_result",
          "data": {
            "text/plain": [
              "tensor([[False],\n",
              "        [False],\n",
              "        [False],\n",
              "        ...,\n",
              "        [False],\n",
              "        [False],\n",
              "        [ True]])"
            ]
          },
          "metadata": {},
          "execution_count": 11
        }
      ]
    },
    {
      "cell_type": "code",
      "source": [
        "corrects.float().mean().item()"
      ],
      "metadata": {
        "colab": {
          "base_uri": "https://localhost:8080/"
        },
        "id": "AkssXOH4F9ZA",
        "outputId": "f25e9b3e-e0e6-45f8-8b58-6f0c5c903a5d"
      },
      "execution_count": 12,
      "outputs": [
        {
          "output_type": "execute_result",
          "data": {
            "text/plain": [
              "0.47047433257102966"
            ]
          },
          "metadata": {},
          "execution_count": 12
        }
      ]
    },
    {
      "cell_type": "markdown",
      "source": [
        "### 가중치 하나를 바꿨을 때, 정확도에서 일어나는 변화 실험"
      ],
      "metadata": {
        "id": "dfuNZi4bGCT1"
      }
    },
    {
      "cell_type": "code",
      "source": [
        "weights[0] *= 1.0001\n",
        "preds= linear1(train_x)\n",
        "((preds>0.5).float()== train_y).float().mean().item()"
      ],
      "metadata": {
        "colab": {
          "base_uri": "https://localhost:8080/",
          "height": 209
        },
        "id": "5gbRjYLJF_yE",
        "outputId": "2f5a5105-130e-4c27-da01-7e1233ef7e92"
      },
      "execution_count": 14,
      "outputs": [
        {
          "output_type": "error",
          "ename": "RuntimeError",
          "evalue": "ignored",
          "traceback": [
            "\u001b[0;31m---------------------------------------------------------------------------\u001b[0m",
            "\u001b[0;31mRuntimeError\u001b[0m                              Traceback (most recent call last)",
            "\u001b[0;32m<ipython-input-14-96ad3684988a>\u001b[0m in \u001b[0;36m<module>\u001b[0;34m\u001b[0m\n\u001b[0;32m----> 1\u001b[0;31m \u001b[0mweights\u001b[0m\u001b[0;34m[\u001b[0m\u001b[0;36m0\u001b[0m\u001b[0;34m]\u001b[0m \u001b[0;34m*=\u001b[0m \u001b[0;36m1.0001\u001b[0m\u001b[0;34m\u001b[0m\u001b[0;34m\u001b[0m\u001b[0m\n\u001b[0m\u001b[1;32m      2\u001b[0m \u001b[0mpreds\u001b[0m\u001b[0;34m=\u001b[0m \u001b[0mlinear1\u001b[0m\u001b[0;34m(\u001b[0m\u001b[0mtrain_x\u001b[0m\u001b[0;34m)\u001b[0m\u001b[0;34m\u001b[0m\u001b[0;34m\u001b[0m\u001b[0m\n\u001b[1;32m      3\u001b[0m \u001b[0;34m(\u001b[0m\u001b[0;34m(\u001b[0m\u001b[0mpreds\u001b[0m\u001b[0;34m>\u001b[0m\u001b[0;36m0.5\u001b[0m\u001b[0;34m)\u001b[0m\u001b[0;34m.\u001b[0m\u001b[0mfloat\u001b[0m\u001b[0;34m(\u001b[0m\u001b[0;34m)\u001b[0m\u001b[0;34m==\u001b[0m \u001b[0mtrain_y\u001b[0m\u001b[0;34m)\u001b[0m\u001b[0;34m.\u001b[0m\u001b[0mfloat\u001b[0m\u001b[0;34m(\u001b[0m\u001b[0;34m)\u001b[0m\u001b[0;34m.\u001b[0m\u001b[0mmean\u001b[0m\u001b[0;34m(\u001b[0m\u001b[0;34m)\u001b[0m\u001b[0;34m.\u001b[0m\u001b[0mitem\u001b[0m\u001b[0;34m(\u001b[0m\u001b[0;34m)\u001b[0m\u001b[0;34m\u001b[0m\u001b[0;34m\u001b[0m\u001b[0m\n",
            "\u001b[0;31mRuntimeError\u001b[0m: a view of a leaf Variable that requires grad is being used in an in-place operation."
          ]
        }
      ]
    },
    {
      "cell_type": "markdown",
      "source": [
        "### 일반적인 그래디언트(기울기) 함수: (yn-yo) / (xn-xo)\n",
        "##### 3 -> 7 혹은 7 -> 3 으로 변할 때만 바뀜...\n",
        "##### 따라서, 작은 변화 => 영향 미미. 거의 항상 0이됨.\n",
        "##### 그렇다면,\n",
        "### \"약간 '더 나은' 예측\"은 어떻게?\n",
        "##### * 올바른 정답이 3일때, 점수가 '약간' 더 높고, 정답이 7일 때, 점수가 '약간' 더 낮을 때.\n",
        "##### 따라서,\n",
        "### 손실 함수는 \n",
        "##### 이미지가 3인지에 대한 예측으로 0~1 사잇값을 가지는 prds라는 한 인자를 정의할 수 있다.(벡터)\n",
        "##### 또한, 목적이 예측값과 참값(타겟 또는 레이블) 사이의 '다름'을 측정하는 것이므로, 0또는 1의 값을 가지는 trgts라는 인자를 정의한다.(벡터)"
      ],
      "metadata": {
        "id": "VkWORwfyIR4f"
      }
    },
    {
      "cell_type": "code",
      "source": [
        "trgts= tensor([1, 0, 1])\n",
        "prds= tensor([0.9, 0.4, 0.2])"
      ],
      "metadata": {
        "id": "VxDih2ViGU12"
      },
      "execution_count": 15,
      "outputs": []
    },
    {
      "cell_type": "markdown",
      "source": [
        "### predictions와 targets 사이의 거리를 측정하는 손실 함수를 만든다."
      ],
      "metadata": {
        "id": "30ifcIS5JsQS"
      }
    },
    {
      "cell_type": "code",
      "source": [
        "def mnist_loss(predictions, targets):\n",
        "  return torch.where(targets==1, 1-predictions, predictions).mean()\n",
        "\n",
        "torch.where(trgts==1, 1-prds, prds)"
      ],
      "metadata": {
        "colab": {
          "base_uri": "https://localhost:8080/"
        },
        "id": "DbN2_8HHJrqr",
        "outputId": "c16ed277-544b-47a2-cbd4-62841f465cee"
      },
      "execution_count": 17,
      "outputs": [
        {
          "output_type": "execute_result",
          "data": {
            "text/plain": [
              "tensor([0.1000, 0.4000, 0.8000])"
            ]
          },
          "metadata": {},
          "execution_count": 17
        }
      ]
    },
    {
      "cell_type": "markdown",
      "source": [
        "### torch.where(a, b, c) !! 중요 !!\n",
        "##### * [b[i] if a[i] else c[i] for i in range(len(a))]와 같은 형식의 리스트 컴프리헨션 비슷한 작업을 수행한다.(CUDA와 텐서로 인한 속도 면에서 강점)\n",
        "##### ** 풀이하면, 정답이 1일때, 예측이 1과 떨어진 정도를,\n",
        "##### 정답이 0일 때, 예측이 0과 떨어진 정도를 측정하고 난 후,\n",
        "##### 구한 모든 거리의 평균을 구하는 일을 한다."
      ],
      "metadata": {
        "id": "eiqfHdEBKATN"
      }
    },
    {
      "cell_type": "code",
      "source": [
        "mnist_loss(prds, trgts)"
      ],
      "metadata": {
        "colab": {
          "base_uri": "https://localhost:8080/"
        },
        "id": "e95OiUapJ-Ws",
        "outputId": "11d562b9-0c4a-4d8d-c954-448b9d02097a"
      },
      "execution_count": 18,
      "outputs": [
        {
          "output_type": "execute_result",
          "data": {
            "text/plain": [
              "tensor(0.4333)"
            ]
          },
          "metadata": {},
          "execution_count": 18
        }
      ]
    },
    {
      "cell_type": "markdown",
      "source": [
        "##### * 손실은 스칼라값이어야 하므로, mnist_loss함수는 각 손실의 평균을 반환한다."
      ],
      "metadata": {
        "id": "lu_e-Q7hLb4C"
      }
    },
    {
      "cell_type": "code",
      "source": [
        "mnist_loss(tensor([0.9, 0.4, 0.8]), trgts)"
      ],
      "metadata": {
        "colab": {
          "base_uri": "https://localhost:8080/"
        },
        "id": "Ucx9PbjfLT8m",
        "outputId": "146fda15-d5b6-4844-b723-7f922a22016d"
      },
      "execution_count": 19,
      "outputs": [
        {
          "output_type": "execute_result",
          "data": {
            "text/plain": [
              "tensor(0.2333)"
            ]
          },
          "metadata": {},
          "execution_count": 19
        }
      ]
    },
    {
      "cell_type": "markdown",
      "source": [
        "##### *'거짓 타겟'에 대한 예측을 \"0.2 -> 0.8\"로 하면, 손실이 줄어들어 더 나은 예측을 나타낸다."
      ],
      "metadata": {
        "id": "NCI9p_yCLm8t"
      }
    },
    {
      "cell_type": "markdown",
      "source": [
        "##### 현재 정의된 mnist_loss 함수에는 예측이 항상 0과 1 사잇값이라고 가정하는 문제가 존재.\n",
        "##### 따라서, 실제로도 값이 0과 1 사이가 되도록 강제해야함. 어떻게 해야하는가?(다음장에)"
      ],
      "metadata": {
        "id": "oMmpp_EsL3vb"
      }
    },
    {
      "cell_type": "code",
      "source": [],
      "metadata": {
        "id": "Wsduyii4LmNI"
      },
      "execution_count": null,
      "outputs": []
    }
  ]
}