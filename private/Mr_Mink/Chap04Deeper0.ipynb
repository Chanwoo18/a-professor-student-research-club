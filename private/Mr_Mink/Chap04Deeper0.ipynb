{
  "nbformat": 4,
  "nbformat_minor": 0,
  "metadata": {
    "colab": {
      "provenance": [],
      "authorship_tag": "ABX9TyO6qUopSaa/U3aSQ3rCjNK/",
      "include_colab_link": true
    },
    "kernelspec": {
      "name": "python3",
      "display_name": "Python 3"
    },
    "language_info": {
      "name": "python"
    },
    "accelerator": "GPU",
    "gpuClass": "standard"
  },
  "cells": [
    {
      "cell_type": "markdown",
      "metadata": {
        "id": "view-in-github",
        "colab_type": "text"
      },
      "source": [
        "<a href=\"https://colab.research.google.com/github/hs0224/a-professor-student-research-club/blob/main/private/Mr_Mink/Chap04Deeper0.ipynb\" target=\"_parent\"><img src=\"https://colab.research.google.com/assets/colab-badge.svg\" alt=\"Open In Colab\"/></a>"
      ]
    },
    {
      "cell_type": "markdown",
      "source": [
        "# 4장 숫자 분류기의 학습 내부 들여다보기\n",
        "##### * 3장은 윤리관련 내용...\n",
        "## 4.1 픽셀: 커퓨터 영상 처리의 기본 토대"
      ],
      "metadata": {
        "id": "knQvL89wMB8t"
      }
    },
    {
      "cell_type": "code",
      "execution_count": 2,
      "metadata": {
        "colab": {
          "base_uri": "https://localhost:8080/",
          "height": 37
        },
        "id": "Y7x7CO6nL7r7",
        "outputId": "fbbd1a28-8e74-4883-9396-3a9e481a8b98"
      },
      "outputs": [
        {
          "output_type": "display_data",
          "data": {
            "text/plain": [
              "<IPython.core.display.HTML object>"
            ],
            "text/html": [
              "\n",
              "<style>\n",
              "    /* Turns off some styling */\n",
              "    progress {\n",
              "        /* gets rid of default border in Firefox and Opera. */\n",
              "        border: none;\n",
              "        /* Needs to be in here for Safari polyfill so background images work as expected. */\n",
              "        background-size: auto;\n",
              "    }\n",
              "    progress:not([value]), progress:not([value])::-webkit-progress-bar {\n",
              "        background: repeating-linear-gradient(45deg, #7e7e7e, #7e7e7e 10px, #5c5c5c 10px, #5c5c5c 20px);\n",
              "    }\n",
              "    .progress-bar-interrupted, .progress-bar-interrupted::-webkit-progress-bar {\n",
              "        background: #F44336;\n",
              "    }\n",
              "</style>\n"
            ]
          },
          "metadata": {}
        },
        {
          "output_type": "display_data",
          "data": {
            "text/plain": [
              "<IPython.core.display.HTML object>"
            ],
            "text/html": [
              "\n",
              "    <div>\n",
              "      <progress value='3219456' class='' max='3214948' style='width:300px; height:20px; vertical-align: middle;'></progress>\n",
              "      100.14% [3219456/3214948 00:00&lt;00:00]\n",
              "    </div>\n",
              "    "
            ]
          },
          "metadata": {}
        }
      ],
      "source": [
        "# MNIST 샘플 데이터 셋 다운로드\n",
        "from fastai.vision.all import *\n",
        "\n",
        "path = untar_data(URLs.MNIST_SAMPLE)"
      ]
    },
    {
      "cell_type": "markdown",
      "source": [
        "##### * MNIST는 손으로 쓴 숫자 이미지들"
      ],
      "metadata": {
        "id": "wO1Jb-HTNOc4"
      }
    },
    {
      "cell_type": "code",
      "source": [
        "(path/'train').ls()"
      ],
      "metadata": {
        "colab": {
          "base_uri": "https://localhost:8080/"
        },
        "id": "eezf4v7KNOBR",
        "outputId": "cbcfd9f4-0bab-496e-bc33-0584620ea9f2"
      },
      "execution_count": 3,
      "outputs": [
        {
          "output_type": "execute_result",
          "data": {
            "text/plain": [
              "(#2) [Path('/root/.fastai/data/mnist_sample/train/3'),Path('/root/.fastai/data/mnist_sample/train/7')]"
            ]
          },
          "metadata": {},
          "execution_count": 3
        }
      ]
    },
    {
      "cell_type": "markdown",
      "source": [
        "### (path/'train').ls()\n",
        "##### * ls(): 해당 디렉토리의 내용을 확인할 수 있다.\n",
        "##### - fastai에서 제공하는 L 클래스 객체를 반환한다.(L클래스는 list를 기능확장한 것)\n",
        "##### - '목록(list)'과 '목록의 개수(len)'를 함께 출력한다.\n",
        "##### * '3'과 '7'의 폴더를 확인할 수 있고, 이는 '데이터셋'으로 \"레이블(label 또는 target)\"이라고 한다."
      ],
      "metadata": {
        "id": "vjOh3LBnNv_-"
      }
    },
    {
      "cell_type": "markdown",
      "source": [
        "### 3과 7을 분리해서 출력하고 확인해 보도록하자."
      ],
      "metadata": {
        "id": "isX57z1wO36U"
      }
    },
    {
      "cell_type": "code",
      "source": [
        "threes = (path/'train'/'3').ls().sorted()\n",
        "sevens = (path/'train'/'7').ls().sorted()\n",
        "\n",
        "threes"
      ],
      "metadata": {
        "colab": {
          "base_uri": "https://localhost:8080/"
        },
        "id": "u4hlwYLlNLpf",
        "outputId": "1aa75869-6936-4890-e400-524556a44d35"
      },
      "execution_count": 4,
      "outputs": [
        {
          "output_type": "execute_result",
          "data": {
            "text/plain": [
              "(#6131) [Path('/root/.fastai/data/mnist_sample/train/3/10.png'),Path('/root/.fastai/data/mnist_sample/train/3/10000.png'),Path('/root/.fastai/data/mnist_sample/train/3/10011.png'),Path('/root/.fastai/data/mnist_sample/train/3/10031.png'),Path('/root/.fastai/data/mnist_sample/train/3/10034.png'),Path('/root/.fastai/data/mnist_sample/train/3/10042.png'),Path('/root/.fastai/data/mnist_sample/train/3/10052.png'),Path('/root/.fastai/data/mnist_sample/train/3/1007.png'),Path('/root/.fastai/data/mnist_sample/train/3/10074.png'),Path('/root/.fastai/data/mnist_sample/train/3/10091.png')...]"
            ]
          },
          "metadata": {},
          "execution_count": 4
        }
      ]
    },
    {
      "cell_type": "code",
      "source": [
        "# 데이터셋중 하나 출력\n",
        "im3_path = threes[1]\n",
        "im3 = Image.open(im3_path)\n",
        "im3"
      ],
      "metadata": {
        "colab": {
          "base_uri": "https://localhost:8080/",
          "height": 45
        },
        "id": "q-nTySkbPbhk",
        "outputId": "5aec5b54-dd39-4f5e-eee7-6bdab3f94f95"
      },
      "execution_count": 5,
      "outputs": [
        {
          "output_type": "execute_result",
          "data": {
            "text/plain": [
              "<PIL.PngImagePlugin.PngImageFile image mode=L size=28x28>"
            ],
            "image/png": "[encoded data removed]"
          },
          "metadata": {},
          "execution_count": 5
        }
      ]
    },
    {
      "cell_type": "markdown",
      "source": [
        "### PIL(Python Imaging Library)가 제공하는 Image 클래스를 사용 중.\n",
        "##### * PIL은 이미지 open, manipulate, print 할 때, 가장 널리 사용하는 패키지.\n",
        "##### ** 주피터 노트북은 \"PIL 라이브러리가 표현하는 이미지를 '즉시' 인식\"할 수 있다.\n",
        "##### *** 컴퓨터는 모든 것을 숫자로 표현한다. 따라서, 이미지를 구성하는 숫자를 확인하려면 '넘파이 배열' 혹은 '파이토치 텐서'로 나타내야 한다."
      ],
      "metadata": {
        "id": "DOpK3woCQC03"
      }
    },
    {
      "cell_type": "code",
      "source": [
        "# 넘파이 array 변환\n",
        "array(im3)[4:10, 4:10] #슬라이싱"
      ],
      "metadata": {
        "colab": {
          "base_uri": "https://localhost:8080/"
        },
        "id": "riAYhLbJPkbg",
        "outputId": "c76089e3-cffd-4717-ed0d-5e864ea35d6f"
      },
      "execution_count": 6,
      "outputs": [
        {
          "output_type": "execute_result",
          "data": {
            "text/plain": [
              "array([[  0,   0,   0,   0,   0,   0],\n",
              "       [  0,   0,   0,   0,   0,  29],\n",
              "       [  0,   0,   0,  48, 166, 224],\n",
              "       [  0,  93, 244, 249, 253, 187],\n",
              "       [  0, 107, 253, 253, 230,  48],\n",
              "       [  0,   3,  20,  20,  15,   0]], dtype=uint8)"
            ]
          },
          "metadata": {},
          "execution_count": 6
        }
      ]
    },
    {
      "cell_type": "code",
      "source": [
        "# 파이토치 tensor로 표현\n",
        "tensor(im3)[4:10, 4:10]"
      ],
      "metadata": {
        "colab": {
          "base_uri": "https://localhost:8080/"
        },
        "id": "tiOo89ExQ3sn",
        "outputId": "6ebc4f28-a0ae-41fc-b8e5-721853d88652"
      },
      "execution_count": 7,
      "outputs": [
        {
          "output_type": "execute_result",
          "data": {
            "text/plain": [
              "tensor([[  0,   0,   0,   0,   0,   0],\n",
              "        [  0,   0,   0,   0,   0,  29],\n",
              "        [  0,   0,   0,  48, 166, 224],\n",
              "        [  0,  93, 244, 249, 253, 187],\n",
              "        [  0, 107, 253, 253, 230,  48],\n",
              "        [  0,   3,  20,  20,  15,   0]], dtype=torch.uint8)"
            ]
          },
          "metadata": {},
          "execution_count": 7
        }
      ]
    },
    {
      "cell_type": "markdown",
      "source": [
        "##### * array는 Numpy, tensor는 Pytorch로 비슷한 형태지만, 다르다는 것을 알 수 있다.\n",
        "### 판다스 데이터프레임으로 숫자의 값에 따라 색상을 그라데이션 형태로 표현해보기\n",
        "##### * 숫자 -> 그림"
      ],
      "metadata": {
        "id": "GlksA1FyRTYM"
      }
    },
    {
      "cell_type": "code",
      "source": [
        "im3_t = tensor(im3)\n",
        "df = pd.DataFrame(im3_t[4:15, 4:22])\n",
        "df.style.set_properties(**{'font-size':'6pt'}).background_gradient('Greys')"
      ],
      "metadata": {
        "colab": {
          "base_uri": "https://localhost:8080/",
          "height": 394
        },
        "id": "Qonz44BRREQQ",
        "outputId": "b6a226b2-7395-40ae-f793-6e3e50745a25"
      },
      "execution_count": 8,
      "outputs": [
        {
          "output_type": "execute_result",
          "data": {
            "text/plain": [
              "<pandas.io.formats.style.Styler at 0x7f0eccc0c8d0>"
            ],
            "text/html": [
              "<style type=\"text/css\">\n",
              "#T_6d201_row0_col0, #T_6d201_row0_col1, #T_6d201_row0_col2, #T_6d201_row0_col3, #T_6d201_row0_col4, #T_6d201_row0_col5, #T_6d201_row0_col6, #T_6d201_row0_col7, #T_6d201_row0_col8, #T_6d201_row0_col9, #T_6d201_row0_col10, #T_6d201_row0_col11, #T_6d201_row0_col12, #T_6d201_row0_col13, #T_6d201_row0_col14, #T_6d201_row0_col15, #T_6d201_row0_col16, #T_6d201_row0_col17, #T_6d201_row1_col0, #T_6d201_row1_col1, #T_6d201_row1_col2, #T_6d201_row1_col3, #T_6d201_row1_col4, #T_6d201_row1_col15, #T_6d201_row1_col16, #T_6d201_row1_col17, #T_6d201_row2_col0, #T_6d201_row2_col1, #T_6d201_row2_col2, #T_6d201_row2_col15, #T_6d201_row2_col16, #T_6d201_row2_col17, #T_6d201_row3_col0, #T_6d201_row3_col15, #T_6d201_row3_col16, #T_6d201_row3_col17, #T_6d201_row4_col0, #T_6d201_row4_col6, #T_6d201_row4_col7, #T_6d201_row4_col8, #T_6d201_row4_col9, #T_6d201_row4_col10, #T_6d201_row4_col15, #T_6d201_row4_col16, #T_6d201_row4_col17, #T_6d201_row5_col0, #T_6d201_row5_col5, #T_6d201_row5_col6, #T_6d201_row5_col7, #T_6d201_row5_col8, #T_6d201_row5_col9, #T_6d201_row5_col15, #T_6d201_row5_col16, #T_6d201_row5_col17, #T_6d201_row6_col0, #T_6d201_row6_col1, #T_6d201_row6_col2, #T_6d201_row6_col3, #T_6d201_row6_col4, #T_6d201_row6_col5, #T_6d201_row6_col6, #T_6d201_row6_col7, #T_6d201_row6_col8, #T_6d201_row6_col9, #T_6d201_row6_col14, #T_6d201_row6_col15, #T_6d201_row6_col16, #T_6d201_row6_col17, #T_6d201_row7_col0, #T_6d201_row7_col1, #T_6d201_row7_col2, #T_6d201_row7_col3, #T_6d201_row7_col4, #T_6d201_row7_col5, #T_6d201_row7_col6, #T_6d201_row7_col13, #T_6d201_row7_col14, #T_6d201_row7_col15, #T_6d201_row7_col16, #T_6d201_row7_col17, #T_6d201_row8_col0, #T_6d201_row8_col1, #T_6d201_row8_col2, #T_6d201_row8_col3, #T_6d201_row8_col4, #T_6d201_row8_col13, #T_6d201_row8_col14, #T_6d201_row8_col15, #T_6d201_row8_col16, #T_6d201_row8_col17, #T_6d201_row9_col0, #T_6d201_row9_col1, #T_6d201_row9_col2, #T_6d201_row9_col3, #T_6d201_row9_col4, #T_6d201_row9_col16, #T_6d201_row9_col17, #T_6d201_row10_col0, #T_6d201_row10_col1, #T_6d201_row10_col2, #T_6d201_row10_col3, #T_6d201_row10_col4, #T_6d201_row10_col5, #T_6d201_row10_col6, #T_6d201_row10_col17 {\n",
              "  font-size: 6pt;\n",
              "  background-color: #ffffff;\n",
              "  color: #000000;\n",
              "}\n",
              "#T_6d201_row1_col5 {\n",
              "  font-size: 6pt;\n",
              "  background-color: #efefef;\n",
              "  color: #000000;\n",
              "}\n",
              "#T_6d201_row1_col6, #T_6d201_row1_col13 {\n",
              "  font-size: 6pt;\n",
              "  background-color: #7c7c7c;\n",
              "  color: #f1f1f1;\n",
              "}\n",
              "#T_6d201_row1_col7 {\n",
              "  font-size: 6pt;\n",
              "  background-color: #4a4a4a;\n",
              "  color: #f1f1f1;\n",
              "}\n",
              "#T_6d201_row1_col8, #T_6d201_row1_col9, #T_6d201_row1_col10, #T_6d201_row2_col5, #T_6d201_row2_col6, #T_6d201_row2_col7, #T_6d201_row2_col11, #T_6d201_row2_col12, #T_6d201_row2_col13, #T_6d201_row3_col4, #T_6d201_row3_col12, #T_6d201_row3_col13, #T_6d201_row4_col1, #T_6d201_row4_col2, #T_6d201_row4_col3, #T_6d201_row4_col12, #T_6d201_row4_col13, #T_6d201_row5_col12, #T_6d201_row6_col11, #T_6d201_row9_col11, #T_6d201_row10_col11, #T_6d201_row10_col12, #T_6d201_row10_col13, #T_6d201_row10_col14, #T_6d201_row10_col15, #T_6d201_row10_col16 {\n",
              "  font-size: 6pt;\n",
              "  background-color: #000000;\n",
              "  color: #f1f1f1;\n",
              "}\n",
              "#T_6d201_row1_col11 {\n",
              "  font-size: 6pt;\n",
              "  background-color: #606060;\n",
              "  color: #f1f1f1;\n",
              "}\n",
              "#T_6d201_row1_col12 {\n",
              "  font-size: 6pt;\n",
              "  background-color: #4d4d4d;\n",
              "  color: #f1f1f1;\n",
              "}\n",
              "#T_6d201_row1_col14 {\n",
              "  font-size: 6pt;\n",
              "  background-color: #bbbbbb;\n",
              "  color: #000000;\n",
              "}\n",
              "#T_6d201_row2_col3 {\n",
              "  font-size: 6pt;\n",
              "  background-color: #e4e4e4;\n",
              "  color: #000000;\n",
              "}\n",
              "#T_6d201_row2_col4, #T_6d201_row8_col6 {\n",
              "  font-size: 6pt;\n",
              "  background-color: #6b6b6b;\n",
              "  color: #f1f1f1;\n",
              "}\n",
              "#T_6d201_row2_col8, #T_6d201_row2_col14, #T_6d201_row3_col14 {\n",
              "  font-size: 6pt;\n",
              "  background-color: #171717;\n",
              "  color: #f1f1f1;\n",
              "}\n",
              "#T_6d201_row2_col9, #T_6d201_row3_col11 {\n",
              "  font-size: 6pt;\n",
              "  background-color: #4b4b4b;\n",
              "  color: #f1f1f1;\n",
              "}\n",
              "#T_6d201_row2_col10, #T_6d201_row7_col10, #T_6d201_row8_col8, #T_6d201_row8_col10, #T_6d201_row9_col8, #T_6d201_row9_col10 {\n",
              "  font-size: 6pt;\n",
              "  background-color: #010101;\n",
              "  color: #f1f1f1;\n",
              "}\n",
              "#T_6d201_row3_col1 {\n",
              "  font-size: 6pt;\n",
              "  background-color: #272727;\n",
              "  color: #f1f1f1;\n",
              "}\n",
              "#T_6d201_row3_col2 {\n",
              "  font-size: 6pt;\n",
              "  background-color: #0a0a0a;\n",
              "  color: #f1f1f1;\n",
              "}\n",
              "#T_6d201_row3_col3 {\n",
              "  font-size: 6pt;\n",
              "  background-color: #050505;\n",
              "  color: #f1f1f1;\n",
              "}\n",
              "#T_6d201_row3_col5 {\n",
              "  font-size: 6pt;\n",
              "  background-color: #333333;\n",
              "  color: #f1f1f1;\n",
              "}\n",
              "#T_6d201_row3_col6 {\n",
              "  font-size: 6pt;\n",
              "  background-color: #e6e6e6;\n",
              "  color: #000000;\n",
              "}\n",
              "#T_6d201_row3_col7, #T_6d201_row3_col10 {\n",
              "  font-size: 6pt;\n",
              "  background-color: #fafafa;\n",
              "  color: #000000;\n",
              "}\n",
              "#T_6d201_row3_col8 {\n",
              "  font-size: 6pt;\n",
              "  background-color: #fbfbfb;\n",
              "  color: #000000;\n",
              "}\n",
              "#T_6d201_row3_col9 {\n",
              "  font-size: 6pt;\n",
              "  background-color: #fdfdfd;\n",
              "  color: #000000;\n",
              "}\n",
              "#T_6d201_row4_col4 {\n",
              "  font-size: 6pt;\n",
              "  background-color: #1b1b1b;\n",
              "  color: #f1f1f1;\n",
              "}\n",
              "#T_6d201_row4_col5 {\n",
              "  font-size: 6pt;\n",
              "  background-color: #e0e0e0;\n",
              "  color: #000000;\n",
              "}\n",
              "#T_6d201_row4_col11 {\n",
              "  font-size: 6pt;\n",
              "  background-color: #4e4e4e;\n",
              "  color: #f1f1f1;\n",
              "}\n",
              "#T_6d201_row4_col14 {\n",
              "  font-size: 6pt;\n",
              "  background-color: #767676;\n",
              "  color: #f1f1f1;\n",
              "}\n",
              "#T_6d201_row5_col1 {\n",
              "  font-size: 6pt;\n",
              "  background-color: #fcfcfc;\n",
              "  color: #000000;\n",
              "}\n",
              "#T_6d201_row5_col2, #T_6d201_row5_col3 {\n",
              "  font-size: 6pt;\n",
              "  background-color: #f6f6f6;\n",
              "  color: #000000;\n",
              "}\n",
              "#T_6d201_row5_col4, #T_6d201_row7_col7 {\n",
              "  font-size: 6pt;\n",
              "  background-color: #f8f8f8;\n",
              "  color: #000000;\n",
              "}\n",
              "#T_6d201_row5_col10, #T_6d201_row10_col7 {\n",
              "  font-size: 6pt;\n",
              "  background-color: #e8e8e8;\n",
              "  color: #000000;\n",
              "}\n",
              "#T_6d201_row5_col11 {\n",
              "  font-size: 6pt;\n",
              "  background-color: #222222;\n",
              "  color: #f1f1f1;\n",
              "}\n",
              "#T_6d201_row5_col13, #T_6d201_row6_col12 {\n",
              "  font-size: 6pt;\n",
              "  background-color: #090909;\n",
              "  color: #f1f1f1;\n",
              "}\n",
              "#T_6d201_row5_col14 {\n",
              "  font-size: 6pt;\n",
              "  background-color: #d0d0d0;\n",
              "  color: #000000;\n",
              "}\n",
              "#T_6d201_row6_col10, #T_6d201_row7_col11, #T_6d201_row9_col6 {\n",
              "  font-size: 6pt;\n",
              "  background-color: #060606;\n",
              "  color: #f1f1f1;\n",
              "}\n",
              "#T_6d201_row6_col13 {\n",
              "  font-size: 6pt;\n",
              "  background-color: #979797;\n",
              "  color: #f1f1f1;\n",
              "}\n",
              "#T_6d201_row7_col8 {\n",
              "  font-size: 6pt;\n",
              "  background-color: #b6b6b6;\n",
              "  color: #000000;\n",
              "}\n",
              "#T_6d201_row7_col9 {\n",
              "  font-size: 6pt;\n",
              "  background-color: #252525;\n",
              "  color: #f1f1f1;\n",
              "}\n",
              "#T_6d201_row7_col12 {\n",
              "  font-size: 6pt;\n",
              "  background-color: #999999;\n",
              "  color: #f1f1f1;\n",
              "}\n",
              "#T_6d201_row8_col5 {\n",
              "  font-size: 6pt;\n",
              "  background-color: #f9f9f9;\n",
              "  color: #000000;\n",
              "}\n",
              "#T_6d201_row8_col7 {\n",
              "  font-size: 6pt;\n",
              "  background-color: #101010;\n",
              "  color: #f1f1f1;\n",
              "}\n",
              "#T_6d201_row8_col9, #T_6d201_row9_col9 {\n",
              "  font-size: 6pt;\n",
              "  background-color: #020202;\n",
              "  color: #f1f1f1;\n",
              "}\n",
              "#T_6d201_row8_col11 {\n",
              "  font-size: 6pt;\n",
              "  background-color: #545454;\n",
              "  color: #f1f1f1;\n",
              "}\n",
              "#T_6d201_row8_col12 {\n",
              "  font-size: 6pt;\n",
              "  background-color: #f1f1f1;\n",
              "  color: #000000;\n",
              "}\n",
              "#T_6d201_row9_col5 {\n",
              "  font-size: 6pt;\n",
              "  background-color: #f7f7f7;\n",
              "  color: #000000;\n",
              "}\n",
              "#T_6d201_row9_col7 {\n",
              "  font-size: 6pt;\n",
              "  background-color: #030303;\n",
              "  color: #f1f1f1;\n",
              "}\n",
              "#T_6d201_row9_col12 {\n",
              "  font-size: 6pt;\n",
              "  background-color: #181818;\n",
              "  color: #f1f1f1;\n",
              "}\n",
              "#T_6d201_row9_col13 {\n",
              "  font-size: 6pt;\n",
              "  background-color: #303030;\n",
              "  color: #f1f1f1;\n",
              "}\n",
              "#T_6d201_row9_col14 {\n",
              "  font-size: 6pt;\n",
              "  background-color: #a9a9a9;\n",
              "  color: #f1f1f1;\n",
              "}\n",
              "#T_6d201_row9_col15 {\n",
              "  font-size: 6pt;\n",
              "  background-color: #fefefe;\n",
              "  color: #000000;\n",
              "}\n",
              "#T_6d201_row10_col8, #T_6d201_row10_col9 {\n",
              "  font-size: 6pt;\n",
              "  background-color: #bababa;\n",
              "  color: #000000;\n",
              "}\n",
              "#T_6d201_row10_col10 {\n",
              "  font-size: 6pt;\n",
              "  background-color: #393939;\n",
              "  color: #f1f1f1;\n",
              "}\n",
              "</style>\n",
              "<table id=\"T_6d201_\" class=\"dataframe\">\n",
              "  <thead>\n",
              "    <tr>\n",
              "      <th class=\"blank level0\" >&nbsp;</th>\n",
              "      <th class=\"col_heading level0 col0\" >0</th>\n",
              "      <th class=\"col_heading level0 col1\" >1</th>\n",
              "      <th class=\"col_heading level0 col2\" >2</th>\n",
              "      <th class=\"col_heading level0 col3\" >3</th>\n",
              "      <th class=\"col_heading level0 col4\" >4</th>\n",
              "      <th class=\"col_heading level0 col5\" >5</th>\n",
              "      <th class=\"col_heading level0 col6\" >6</th>\n",
              "      <th class=\"col_heading level0 col7\" >7</th>\n",
              "      <th class=\"col_heading level0 col8\" >8</th>\n",
              "      <th class=\"col_heading level0 col9\" >9</th>\n",
              "      <th class=\"col_heading level0 col10\" >10</th>\n",
              "      <th class=\"col_heading level0 col11\" >11</th>\n",
              "      <th class=\"col_heading level0 col12\" >12</th>\n",
              "      <th class=\"col_heading level0 col13\" >13</th>\n",
              "      <th class=\"col_heading level0 col14\" >14</th>\n",
              "      <th class=\"col_heading level0 col15\" >15</th>\n",
              "      <th class=\"col_heading level0 col16\" >16</th>\n",
              "      <th class=\"col_heading level0 col17\" >17</th>\n",
              "    </tr>\n",
              "  </thead>\n",
              "  <tbody>\n",
              "    <tr>\n",
              "      <th id=\"T_6d201_level0_row0\" class=\"row_heading level0 row0\" >0</th>\n",
              "      <td id=\"T_6d201_row0_col0\" class=\"data row0 col0\" >0</td>\n",
              "      <td id=\"T_6d201_row0_col1\" class=\"data row0 col1\" >0</td>\n",
              "      <td id=\"T_6d201_row0_col2\" class=\"data row0 col2\" >0</td>\n",
              "      <td id=\"T_6d201_row0_col3\" class=\"data row0 col3\" >0</td>\n",
              "      <td id=\"T_6d201_row0_col4\" class=\"data row0 col4\" >0</td>\n",
              "      <td id=\"T_6d201_row0_col5\" class=\"data row0 col5\" >0</td>\n",
              "      <td id=\"T_6d201_row0_col6\" class=\"data row0 col6\" >0</td>\n",
              "      <td id=\"T_6d201_row0_col7\" class=\"data row0 col7\" >0</td>\n",
              "      <td id=\"T_6d201_row0_col8\" class=\"data row0 col8\" >0</td>\n",
              "      <td id=\"T_6d201_row0_col9\" class=\"data row0 col9\" >0</td>\n",
              "      <td id=\"T_6d201_row0_col10\" class=\"data row0 col10\" >0</td>\n",
              "      <td id=\"T_6d201_row0_col11\" class=\"data row0 col11\" >0</td>\n",
              "      <td id=\"T_6d201_row0_col12\" class=\"data row0 col12\" >0</td>\n",
              "      <td id=\"T_6d201_row0_col13\" class=\"data row0 col13\" >0</td>\n",
              "      <td id=\"T_6d201_row0_col14\" class=\"data row0 col14\" >0</td>\n",
              "      <td id=\"T_6d201_row0_col15\" class=\"data row0 col15\" >0</td>\n",
              "      <td id=\"T_6d201_row0_col16\" class=\"data row0 col16\" >0</td>\n",
              "      <td id=\"T_6d201_row0_col17\" class=\"data row0 col17\" >0</td>\n",
              "    </tr>\n",
              "    <tr>\n",
              "      <th id=\"T_6d201_level0_row1\" class=\"row_heading level0 row1\" >1</th>\n",
              "      <td id=\"T_6d201_row1_col0\" class=\"data row1 col0\" >0</td>\n",
              "      <td id=\"T_6d201_row1_col1\" class=\"data row1 col1\" >0</td>\n",
              "      <td id=\"T_6d201_row1_col2\" class=\"data row1 col2\" >0</td>\n",
              "      <td id=\"T_6d201_row1_col3\" class=\"data row1 col3\" >0</td>\n",
              "      <td id=\"T_6d201_row1_col4\" class=\"data row1 col4\" >0</td>\n",
              "      <td id=\"T_6d201_row1_col5\" class=\"data row1 col5\" >29</td>\n",
              "      <td id=\"T_6d201_row1_col6\" class=\"data row1 col6\" >150</td>\n",
              "      <td id=\"T_6d201_row1_col7\" class=\"data row1 col7\" >195</td>\n",
              "      <td id=\"T_6d201_row1_col8\" class=\"data row1 col8\" >254</td>\n",
              "      <td id=\"T_6d201_row1_col9\" class=\"data row1 col9\" >255</td>\n",
              "      <td id=\"T_6d201_row1_col10\" class=\"data row1 col10\" >254</td>\n",
              "      <td id=\"T_6d201_row1_col11\" class=\"data row1 col11\" >176</td>\n",
              "      <td id=\"T_6d201_row1_col12\" class=\"data row1 col12\" >193</td>\n",
              "      <td id=\"T_6d201_row1_col13\" class=\"data row1 col13\" >150</td>\n",
              "      <td id=\"T_6d201_row1_col14\" class=\"data row1 col14\" >96</td>\n",
              "      <td id=\"T_6d201_row1_col15\" class=\"data row1 col15\" >0</td>\n",
              "      <td id=\"T_6d201_row1_col16\" class=\"data row1 col16\" >0</td>\n",
              "      <td id=\"T_6d201_row1_col17\" class=\"data row1 col17\" >0</td>\n",
              "    </tr>\n",
              "    <tr>\n",
              "      <th id=\"T_6d201_level0_row2\" class=\"row_heading level0 row2\" >2</th>\n",
              "      <td id=\"T_6d201_row2_col0\" class=\"data row2 col0\" >0</td>\n",
              "      <td id=\"T_6d201_row2_col1\" class=\"data row2 col1\" >0</td>\n",
              "      <td id=\"T_6d201_row2_col2\" class=\"data row2 col2\" >0</td>\n",
              "      <td id=\"T_6d201_row2_col3\" class=\"data row2 col3\" >48</td>\n",
              "      <td id=\"T_6d201_row2_col4\" class=\"data row2 col4\" >166</td>\n",
              "      <td id=\"T_6d201_row2_col5\" class=\"data row2 col5\" >224</td>\n",
              "      <td id=\"T_6d201_row2_col6\" class=\"data row2 col6\" >253</td>\n",
              "      <td id=\"T_6d201_row2_col7\" class=\"data row2 col7\" >253</td>\n",
              "      <td id=\"T_6d201_row2_col8\" class=\"data row2 col8\" >234</td>\n",
              "      <td id=\"T_6d201_row2_col9\" class=\"data row2 col9\" >196</td>\n",
              "      <td id=\"T_6d201_row2_col10\" class=\"data row2 col10\" >253</td>\n",
              "      <td id=\"T_6d201_row2_col11\" class=\"data row2 col11\" >253</td>\n",
              "      <td id=\"T_6d201_row2_col12\" class=\"data row2 col12\" >253</td>\n",
              "      <td id=\"T_6d201_row2_col13\" class=\"data row2 col13\" >253</td>\n",
              "      <td id=\"T_6d201_row2_col14\" class=\"data row2 col14\" >233</td>\n",
              "      <td id=\"T_6d201_row2_col15\" class=\"data row2 col15\" >0</td>\n",
              "      <td id=\"T_6d201_row2_col16\" class=\"data row2 col16\" >0</td>\n",
              "      <td id=\"T_6d201_row2_col17\" class=\"data row2 col17\" >0</td>\n",
              "    </tr>\n",
              "    <tr>\n",
              "      <th id=\"T_6d201_level0_row3\" class=\"row_heading level0 row3\" >3</th>\n",
              "      <td id=\"T_6d201_row3_col0\" class=\"data row3 col0\" >0</td>\n",
              "      <td id=\"T_6d201_row3_col1\" class=\"data row3 col1\" >93</td>\n",
              "      <td id=\"T_6d201_row3_col2\" class=\"data row3 col2\" >244</td>\n",
              "      <td id=\"T_6d201_row3_col3\" class=\"data row3 col3\" >249</td>\n",
              "      <td id=\"T_6d201_row3_col4\" class=\"data row3 col4\" >253</td>\n",
              "      <td id=\"T_6d201_row3_col5\" class=\"data row3 col5\" >187</td>\n",
              "      <td id=\"T_6d201_row3_col6\" class=\"data row3 col6\" >46</td>\n",
              "      <td id=\"T_6d201_row3_col7\" class=\"data row3 col7\" >10</td>\n",
              "      <td id=\"T_6d201_row3_col8\" class=\"data row3 col8\" >8</td>\n",
              "      <td id=\"T_6d201_row3_col9\" class=\"data row3 col9\" >4</td>\n",
              "      <td id=\"T_6d201_row3_col10\" class=\"data row3 col10\" >10</td>\n",
              "      <td id=\"T_6d201_row3_col11\" class=\"data row3 col11\" >194</td>\n",
              "      <td id=\"T_6d201_row3_col12\" class=\"data row3 col12\" >253</td>\n",
              "      <td id=\"T_6d201_row3_col13\" class=\"data row3 col13\" >253</td>\n",
              "      <td id=\"T_6d201_row3_col14\" class=\"data row3 col14\" >233</td>\n",
              "      <td id=\"T_6d201_row3_col15\" class=\"data row3 col15\" >0</td>\n",
              "      <td id=\"T_6d201_row3_col16\" class=\"data row3 col16\" >0</td>\n",
              "      <td id=\"T_6d201_row3_col17\" class=\"data row3 col17\" >0</td>\n",
              "    </tr>\n",
              "    <tr>\n",
              "      <th id=\"T_6d201_level0_row4\" class=\"row_heading level0 row4\" >4</th>\n",
              "      <td id=\"T_6d201_row4_col0\" class=\"data row4 col0\" >0</td>\n",
              "      <td id=\"T_6d201_row4_col1\" class=\"data row4 col1\" >107</td>\n",
              "      <td id=\"T_6d201_row4_col2\" class=\"data row4 col2\" >253</td>\n",
              "      <td id=\"T_6d201_row4_col3\" class=\"data row4 col3\" >253</td>\n",
              "      <td id=\"T_6d201_row4_col4\" class=\"data row4 col4\" >230</td>\n",
              "      <td id=\"T_6d201_row4_col5\" class=\"data row4 col5\" >48</td>\n",
              "      <td id=\"T_6d201_row4_col6\" class=\"data row4 col6\" >0</td>\n",
              "      <td id=\"T_6d201_row4_col7\" class=\"data row4 col7\" >0</td>\n",
              "      <td id=\"T_6d201_row4_col8\" class=\"data row4 col8\" >0</td>\n",
              "      <td id=\"T_6d201_row4_col9\" class=\"data row4 col9\" >0</td>\n",
              "      <td id=\"T_6d201_row4_col10\" class=\"data row4 col10\" >0</td>\n",
              "      <td id=\"T_6d201_row4_col11\" class=\"data row4 col11\" >192</td>\n",
              "      <td id=\"T_6d201_row4_col12\" class=\"data row4 col12\" >253</td>\n",
              "      <td id=\"T_6d201_row4_col13\" class=\"data row4 col13\" >253</td>\n",
              "      <td id=\"T_6d201_row4_col14\" class=\"data row4 col14\" >156</td>\n",
              "      <td id=\"T_6d201_row4_col15\" class=\"data row4 col15\" >0</td>\n",
              "      <td id=\"T_6d201_row4_col16\" class=\"data row4 col16\" >0</td>\n",
              "      <td id=\"T_6d201_row4_col17\" class=\"data row4 col17\" >0</td>\n",
              "    </tr>\n",
              "    <tr>\n",
              "      <th id=\"T_6d201_level0_row5\" class=\"row_heading level0 row5\" >5</th>\n",
              "      <td id=\"T_6d201_row5_col0\" class=\"data row5 col0\" >0</td>\n",
              "      <td id=\"T_6d201_row5_col1\" class=\"data row5 col1\" >3</td>\n",
              "      <td id=\"T_6d201_row5_col2\" class=\"data row5 col2\" >20</td>\n",
              "      <td id=\"T_6d201_row5_col3\" class=\"data row5 col3\" >20</td>\n",
              "      <td id=\"T_6d201_row5_col4\" class=\"data row5 col4\" >15</td>\n",
              "      <td id=\"T_6d201_row5_col5\" class=\"data row5 col5\" >0</td>\n",
              "      <td id=\"T_6d201_row5_col6\" class=\"data row5 col6\" >0</td>\n",
              "      <td id=\"T_6d201_row5_col7\" class=\"data row5 col7\" >0</td>\n",
              "      <td id=\"T_6d201_row5_col8\" class=\"data row5 col8\" >0</td>\n",
              "      <td id=\"T_6d201_row5_col9\" class=\"data row5 col9\" >0</td>\n",
              "      <td id=\"T_6d201_row5_col10\" class=\"data row5 col10\" >43</td>\n",
              "      <td id=\"T_6d201_row5_col11\" class=\"data row5 col11\" >224</td>\n",
              "      <td id=\"T_6d201_row5_col12\" class=\"data row5 col12\" >253</td>\n",
              "      <td id=\"T_6d201_row5_col13\" class=\"data row5 col13\" >245</td>\n",
              "      <td id=\"T_6d201_row5_col14\" class=\"data row5 col14\" >74</td>\n",
              "      <td id=\"T_6d201_row5_col15\" class=\"data row5 col15\" >0</td>\n",
              "      <td id=\"T_6d201_row5_col16\" class=\"data row5 col16\" >0</td>\n",
              "      <td id=\"T_6d201_row5_col17\" class=\"data row5 col17\" >0</td>\n",
              "    </tr>\n",
              "    <tr>\n",
              "      <th id=\"T_6d201_level0_row6\" class=\"row_heading level0 row6\" >6</th>\n",
              "      <td id=\"T_6d201_row6_col0\" class=\"data row6 col0\" >0</td>\n",
              "      <td id=\"T_6d201_row6_col1\" class=\"data row6 col1\" >0</td>\n",
              "      <td id=\"T_6d201_row6_col2\" class=\"data row6 col2\" >0</td>\n",
              "      <td id=\"T_6d201_row6_col3\" class=\"data row6 col3\" >0</td>\n",
              "      <td id=\"T_6d201_row6_col4\" class=\"data row6 col4\" >0</td>\n",
              "      <td id=\"T_6d201_row6_col5\" class=\"data row6 col5\" >0</td>\n",
              "      <td id=\"T_6d201_row6_col6\" class=\"data row6 col6\" >0</td>\n",
              "      <td id=\"T_6d201_row6_col7\" class=\"data row6 col7\" >0</td>\n",
              "      <td id=\"T_6d201_row6_col8\" class=\"data row6 col8\" >0</td>\n",
              "      <td id=\"T_6d201_row6_col9\" class=\"data row6 col9\" >0</td>\n",
              "      <td id=\"T_6d201_row6_col10\" class=\"data row6 col10\" >249</td>\n",
              "      <td id=\"T_6d201_row6_col11\" class=\"data row6 col11\" >253</td>\n",
              "      <td id=\"T_6d201_row6_col12\" class=\"data row6 col12\" >245</td>\n",
              "      <td id=\"T_6d201_row6_col13\" class=\"data row6 col13\" >126</td>\n",
              "      <td id=\"T_6d201_row6_col14\" class=\"data row6 col14\" >0</td>\n",
              "      <td id=\"T_6d201_row6_col15\" class=\"data row6 col15\" >0</td>\n",
              "      <td id=\"T_6d201_row6_col16\" class=\"data row6 col16\" >0</td>\n",
              "      <td id=\"T_6d201_row6_col17\" class=\"data row6 col17\" >0</td>\n",
              "    </tr>\n",
              "    <tr>\n",
              "      <th id=\"T_6d201_level0_row7\" class=\"row_heading level0 row7\" >7</th>\n",
              "      <td id=\"T_6d201_row7_col0\" class=\"data row7 col0\" >0</td>\n",
              "      <td id=\"T_6d201_row7_col1\" class=\"data row7 col1\" >0</td>\n",
              "      <td id=\"T_6d201_row7_col2\" class=\"data row7 col2\" >0</td>\n",
              "      <td id=\"T_6d201_row7_col3\" class=\"data row7 col3\" >0</td>\n",
              "      <td id=\"T_6d201_row7_col4\" class=\"data row7 col4\" >0</td>\n",
              "      <td id=\"T_6d201_row7_col5\" class=\"data row7 col5\" >0</td>\n",
              "      <td id=\"T_6d201_row7_col6\" class=\"data row7 col6\" >0</td>\n",
              "      <td id=\"T_6d201_row7_col7\" class=\"data row7 col7\" >14</td>\n",
              "      <td id=\"T_6d201_row7_col8\" class=\"data row7 col8\" >101</td>\n",
              "      <td id=\"T_6d201_row7_col9\" class=\"data row7 col9\" >223</td>\n",
              "      <td id=\"T_6d201_row7_col10\" class=\"data row7 col10\" >253</td>\n",
              "      <td id=\"T_6d201_row7_col11\" class=\"data row7 col11\" >248</td>\n",
              "      <td id=\"T_6d201_row7_col12\" class=\"data row7 col12\" >124</td>\n",
              "      <td id=\"T_6d201_row7_col13\" class=\"data row7 col13\" >0</td>\n",
              "      <td id=\"T_6d201_row7_col14\" class=\"data row7 col14\" >0</td>\n",
              "      <td id=\"T_6d201_row7_col15\" class=\"data row7 col15\" >0</td>\n",
              "      <td id=\"T_6d201_row7_col16\" class=\"data row7 col16\" >0</td>\n",
              "      <td id=\"T_6d201_row7_col17\" class=\"data row7 col17\" >0</td>\n",
              "    </tr>\n",
              "    <tr>\n",
              "      <th id=\"T_6d201_level0_row8\" class=\"row_heading level0 row8\" >8</th>\n",
              "      <td id=\"T_6d201_row8_col0\" class=\"data row8 col0\" >0</td>\n",
              "      <td id=\"T_6d201_row8_col1\" class=\"data row8 col1\" >0</td>\n",
              "      <td id=\"T_6d201_row8_col2\" class=\"data row8 col2\" >0</td>\n",
              "      <td id=\"T_6d201_row8_col3\" class=\"data row8 col3\" >0</td>\n",
              "      <td id=\"T_6d201_row8_col4\" class=\"data row8 col4\" >0</td>\n",
              "      <td id=\"T_6d201_row8_col5\" class=\"data row8 col5\" >11</td>\n",
              "      <td id=\"T_6d201_row8_col6\" class=\"data row8 col6\" >166</td>\n",
              "      <td id=\"T_6d201_row8_col7\" class=\"data row8 col7\" >239</td>\n",
              "      <td id=\"T_6d201_row8_col8\" class=\"data row8 col8\" >253</td>\n",
              "      <td id=\"T_6d201_row8_col9\" class=\"data row8 col9\" >253</td>\n",
              "      <td id=\"T_6d201_row8_col10\" class=\"data row8 col10\" >253</td>\n",
              "      <td id=\"T_6d201_row8_col11\" class=\"data row8 col11\" >187</td>\n",
              "      <td id=\"T_6d201_row8_col12\" class=\"data row8 col12\" >30</td>\n",
              "      <td id=\"T_6d201_row8_col13\" class=\"data row8 col13\" >0</td>\n",
              "      <td id=\"T_6d201_row8_col14\" class=\"data row8 col14\" >0</td>\n",
              "      <td id=\"T_6d201_row8_col15\" class=\"data row8 col15\" >0</td>\n",
              "      <td id=\"T_6d201_row8_col16\" class=\"data row8 col16\" >0</td>\n",
              "      <td id=\"T_6d201_row8_col17\" class=\"data row8 col17\" >0</td>\n",
              "    </tr>\n",
              "    <tr>\n",
              "      <th id=\"T_6d201_level0_row9\" class=\"row_heading level0 row9\" >9</th>\n",
              "      <td id=\"T_6d201_row9_col0\" class=\"data row9 col0\" >0</td>\n",
              "      <td id=\"T_6d201_row9_col1\" class=\"data row9 col1\" >0</td>\n",
              "      <td id=\"T_6d201_row9_col2\" class=\"data row9 col2\" >0</td>\n",
              "      <td id=\"T_6d201_row9_col3\" class=\"data row9 col3\" >0</td>\n",
              "      <td id=\"T_6d201_row9_col4\" class=\"data row9 col4\" >0</td>\n",
              "      <td id=\"T_6d201_row9_col5\" class=\"data row9 col5\" >16</td>\n",
              "      <td id=\"T_6d201_row9_col6\" class=\"data row9 col6\" >248</td>\n",
              "      <td id=\"T_6d201_row9_col7\" class=\"data row9 col7\" >250</td>\n",
              "      <td id=\"T_6d201_row9_col8\" class=\"data row9 col8\" >253</td>\n",
              "      <td id=\"T_6d201_row9_col9\" class=\"data row9 col9\" >253</td>\n",
              "      <td id=\"T_6d201_row9_col10\" class=\"data row9 col10\" >253</td>\n",
              "      <td id=\"T_6d201_row9_col11\" class=\"data row9 col11\" >253</td>\n",
              "      <td id=\"T_6d201_row9_col12\" class=\"data row9 col12\" >232</td>\n",
              "      <td id=\"T_6d201_row9_col13\" class=\"data row9 col13\" >213</td>\n",
              "      <td id=\"T_6d201_row9_col14\" class=\"data row9 col14\" >111</td>\n",
              "      <td id=\"T_6d201_row9_col15\" class=\"data row9 col15\" >2</td>\n",
              "      <td id=\"T_6d201_row9_col16\" class=\"data row9 col16\" >0</td>\n",
              "      <td id=\"T_6d201_row9_col17\" class=\"data row9 col17\" >0</td>\n",
              "    </tr>\n",
              "    <tr>\n",
              "      <th id=\"T_6d201_level0_row10\" class=\"row_heading level0 row10\" >10</th>\n",
              "      <td id=\"T_6d201_row10_col0\" class=\"data row10 col0\" >0</td>\n",
              "      <td id=\"T_6d201_row10_col1\" class=\"data row10 col1\" >0</td>\n",
              "      <td id=\"T_6d201_row10_col2\" class=\"data row10 col2\" >0</td>\n",
              "      <td id=\"T_6d201_row10_col3\" class=\"data row10 col3\" >0</td>\n",
              "      <td id=\"T_6d201_row10_col4\" class=\"data row10 col4\" >0</td>\n",
              "      <td id=\"T_6d201_row10_col5\" class=\"data row10 col5\" >0</td>\n",
              "      <td id=\"T_6d201_row10_col6\" class=\"data row10 col6\" >0</td>\n",
              "      <td id=\"T_6d201_row10_col7\" class=\"data row10 col7\" >43</td>\n",
              "      <td id=\"T_6d201_row10_col8\" class=\"data row10 col8\" >98</td>\n",
              "      <td id=\"T_6d201_row10_col9\" class=\"data row10 col9\" >98</td>\n",
              "      <td id=\"T_6d201_row10_col10\" class=\"data row10 col10\" >208</td>\n",
              "      <td id=\"T_6d201_row10_col11\" class=\"data row10 col11\" >253</td>\n",
              "      <td id=\"T_6d201_row10_col12\" class=\"data row10 col12\" >253</td>\n",
              "      <td id=\"T_6d201_row10_col13\" class=\"data row10 col13\" >253</td>\n",
              "      <td id=\"T_6d201_row10_col14\" class=\"data row10 col14\" >253</td>\n",
              "      <td id=\"T_6d201_row10_col15\" class=\"data row10 col15\" >187</td>\n",
              "      <td id=\"T_6d201_row10_col16\" class=\"data row10 col16\" >22</td>\n",
              "      <td id=\"T_6d201_row10_col17\" class=\"data row10 col17\" >0</td>\n",
              "    </tr>\n",
              "  </tbody>\n",
              "</table>\n"
            ]
          },
          "metadata": {},
          "execution_count": 8
        }
      ]
    },
    {
      "cell_type": "markdown",
      "source": [
        "### df = pd.DataFrame(im3_t[4:15, 4:22])\n",
        "##### * pd는 pandas 를 의미.\n",
        "##### ** DataFrame()으로 데이터프레임 생성.\n",
        "##### *** im3_t[4:15, 4:22] 에서 4:15 은 4 ~ 14, 그리고 4:22 은 4 ~ 21 을 의미한다. 따라서, 데이터 프레임의 행은 0부터 (14 - 4 = )10, 열은 0부터 (21 - 4 = )17 까지의 범위를 표현하게 된다.\n",
        "### df.style.set_properties(**{'font-size':'6pt'}).background_gradient('Greys')\n",
        "##### * df.style: df의 스타일 클래스\n",
        "##### ** .set_properties(): 속성 설정 함수\n",
        "##### *** (**{'font-size':'6pt'}): **의 의미는 잘 모르겠지만, 폰트사이즈를 6포인트로 설정하겠다는 의미.\n",
        "##### **** .background_gradient('Greys') 배경의 그라데이션을 'Greys(흑백)'으로 설정.\n",
        "##### ***** 디자인적인 의미에서 그라데이션을 기울기로 나타낸다. 색이 진해질 수록 기울기가 높다.\n",
        "### 숫자 -> 그림 분석\n",
        "##### * 완전 흰색은 0!, 완전 검은색은 255!\n",
        "##### ** 이미지는 28 x 28 이다.\n",
        "##### *** 즉, 가로 28개, 세로 28개의 픽셀들(784개)로 구성된다는 뜻이다."
      ],
      "metadata": {
        "id": "A5rlAzSQUFML"
      }
    },
    {
      "cell_type": "markdown",
      "source": [
        "## 4.2 첫번째 시도: 픽셀 유사성"
      ],
      "metadata": {
        "id": "OUAobi8wYS0V"
      }
    },
    {
      "cell_type": "code",
      "source": [],
      "metadata": {
        "id": "FV4WGpiSSFdM"
      },
      "execution_count": null,
      "outputs": []
    }
  ]
}