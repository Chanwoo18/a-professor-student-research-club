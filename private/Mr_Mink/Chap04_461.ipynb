{
  "nbformat": 4,
  "nbformat_minor": 0,
  "metadata": {
    "colab": {
      "provenance": []
    },
    "kernelspec": {
      "name": "python3",
      "display_name": "Python 3"
    },
    "language_info": {
      "name": "python"
    },
    "accelerator": "GPU",
    "gpuClass": "standard"
  },
  "cells": [
    {
      "cell_type": "code",
      "source": [
        "#pip install fastbook"
      ],
      "metadata": {
        "id": "sbCfF5Y-jbkm"
      },
      "execution_count": null,
      "outputs": []
    },
    {
      "cell_type": "code",
      "source": [
        "from fastai.vision.all import *\n",
        "import ipywidgets as widgets\n",
        "\n",
        "path= untar_data(URLs.MNIST_SAMPLE)\n",
        "threes= (path/'train'/'3').ls().sorted()\n",
        "sevens= (path/'train'/'7').ls().sorted()\n",
        "\n",
        "three_tensors= [tensor(Image.open(o)) for o in threes]\n",
        "seven_tensors= [tensor(Image.open(o)) for o in sevens]\n",
        "\n",
        "stacked_threes= torch.stack(three_tensors).float()/255\n",
        "stacked_sevens= torch.stack(seven_tensors).float()/255\n",
        "\n",
        "train_x = torch.cat([stacked_threes, stacked_sevens]).view(-1, 28 * 28)\n",
        "\n",
        "def mnist_loss(predictions, targets):\n",
        "  return torch.where(targets==1, 1-predictions, predictions).mean()\n",
        "\n",
        "valid_3_tens= torch.stack([tensor(Image.open(o)) for o in (path/'valid'/'3').ls()])\n",
        "valid_7_tens= torch.stack([tensor(Image.open(o)) for o in (path/'valid'/'7').ls()])\n",
        "\n",
        "valid_3_tens= valid_3_tens.float()/255\n",
        "valid_7_tens= valid_7_tens.float()/255\n",
        "\n",
        "def sigmoid(x): return 1/(1+torch.exp(-x))\n",
        "\n",
        "def mnist_loss(predictions, targets):\n",
        "  predictions= predictions.sigmoid()\n",
        "  return torch.where(targets== 1, 1-predictions, predictions).mean()\n",
        "\n",
        "train_x= torch.cat([stacked_threes, stacked_sevens]).view(-1, 28*28)\n",
        "train_y= tensor([1]*len(threes) + [0]*len(sevens)).unsqueeze(1)\n",
        "\n",
        "dset= list(zip(train_x, train_y))\n",
        "\n",
        "valid_x= torch.cat([valid_3_tens, valid_7_tens]).view(-1, 28*28)\n",
        "valid_y= tensor([1]*len(valid_3_tens) + [0]*len(valid_7_tens)).unsqueeze(1)\n",
        "\n",
        "valid_dset= list(zip(valid_x, valid_y))\n",
        "\n",
        "def init_params(size, std=1.0): return (torch.randn(size)*std).requires_grad_()\n",
        "\n",
        "def linear1(xb): return xb@weights + bias\n",
        "\n",
        "weights= init_params((28*28, 1))\n",
        "bias= init_params(1)\n",
        "\n",
        "dl= DataLoader(dset, batch_size= 256)\n",
        "xb, yb= first(dl)\n",
        "\n",
        "valid_dl= DataLoader(valid_dset, batch_size=256)\n",
        "\n",
        "batch= train_x[:4]\n",
        "\n",
        "preds= linear1(batch)\n",
        "\n",
        "loss= mnist_loss(preds, train_y[:4])\n",
        "\n",
        "loss.backward()\n",
        "\n",
        "def calc_grad(xb, yb, model):\n",
        "  preds= model(xb)\n",
        "  loss= mnist_loss(preds, yb)\n",
        "  loss.backward()\n",
        "\n",
        "calc_grad(batch, train_y[:4], linear1)\n",
        "\n",
        "weights.grad.zero_()\n",
        "bias.grad.zero_();\n",
        "\n",
        "def train_epoch(model, lr, params):\n",
        "  for xb, yb in dl:\n",
        "    calc_grad(xb, yb, model)\n",
        "    for p in params:\n",
        "      p.data -= p.grad * lr\n",
        "      p.grad.zero_()\n",
        "\n",
        "def batch_accuracy(xb, yb):\n",
        "  preds= xb.sigmoid()\n",
        "  correct= (preds>0.5) == yb\n",
        "  return correct.float().mean()\n",
        "\n",
        "def validate_epoch(model):\n",
        "  accs= [batch_accuracy(model(xb), yb) for xb, yb in valid_dl]\n",
        "  return round(torch.stack(accs).mean().item(), 4)\n",
        "\n",
        "lr= 1.\n",
        "params= weights, bias\n",
        "train_epoch(linear1, lr, params)\n",
        "validate_epoch(linear1)"
      ],
      "metadata": {
        "colab": {
          "base_uri": "https://localhost:8080/"
        },
        "id": "qOi0I9pDcKOp",
        "outputId": "a92ff03d-02dc-4d46-bd97-3914bfd0ca41"
      },
      "execution_count": null,
      "outputs": [
        {
          "output_type": "execute_result",
          "data": {
            "text/plain": [
              "0.7259"
            ]
          },
          "metadata": {},
          "execution_count": 2
        }
      ]
    },
    {
      "cell_type": "code",
      "source": [
        "from fastbook import *\n",
        "plot_function(torch.sigmoid, title='Sigmoid', min=-4, max=4)"
      ],
      "metadata": {
        "colab": {
          "base_uri": "https://localhost:8080/",
          "height": 285
        },
        "id": "PwHew2xdis1M",
        "outputId": "6b922197-eb6c-4bbe-fa97-c51105b56277"
      },
      "execution_count": null,
      "outputs": [
        {
          "output_type": "display_data",
          "data": {
            "text/plain": [
              "<Figure size 432x288 with 1 Axes>"
            ],
            "image/png": "[encoded data removed]"
          },
          "metadata": {
            "needs_background": "light"
          }
        }
      ]
    },
    {
      "cell_type": "markdown",
      "source": [
        "# 4.6.1 옵티마이저 만들기\n",
        "### 가장 먼저 시도할 일\n",
        "#### linear1 함수를 파이토치의 nn.Linear 모듈로 대체하는 것.\n",
        "##### * '모듈': 파이토치의 nn.Module 클래스를 상속받은 클래스 객체를 의미.\n",
        "### nn.Linear는\n",
        "##### * 앞서 만든 init_params 및 linear의 작동을 하나로 수행한다.\n",
        "##### ** 단일 클래스 내에 '가중치'와 '편향' 모두가 저장된다.\n"
      ],
      "metadata": {
        "id": "nP9HTaNdV8_o"
      }
    },
    {
      "cell_type": "code",
      "execution_count": null,
      "metadata": {
        "id": "7s8_pDfzVg5e"
      },
      "outputs": [],
      "source": [
        "linear_model = nn.Linear(28*28, 1)"
      ]
    },
    {
      "cell_type": "markdown",
      "source": [
        "### 파라미터 목록은 parameters 메소드로 접근할 수 있다."
      ],
      "metadata": {
        "id": "62oKhQD0V8Zw"
      }
    },
    {
      "cell_type": "code",
      "source": [
        "w, b= linear_model.parameters()\n",
        "w.shape, b.shape"
      ],
      "metadata": {
        "colab": {
          "base_uri": "https://localhost:8080/"
        },
        "id": "n5R3TjAMtiGw",
        "outputId": "2ddf9ebe-7f76-40d7-db83-381ef27e6f32"
      },
      "execution_count": null,
      "outputs": [
        {
          "output_type": "execute_result",
          "data": {
            "text/plain": [
              "(torch.Size([1, 784]), torch.Size([1]))"
            ]
          },
          "metadata": {},
          "execution_count": 5
        }
      ]
    },
    {
      "cell_type": "markdown",
      "source": [
        "##### 이 파라미터 정보는 옵티마이저를 정의하는데 활용할 수 있다."
      ],
      "metadata": {
        "id": "e-uSH6ZluMmI"
      }
    },
    {
      "cell_type": "code",
      "source": [
        "class BasicOptim:\n",
        "  def __init__(self, params, lr): self.params, self.lr= list(params), lr\n",
        "\n",
        "  def step(self, *args, **kwargs):\n",
        "    for p in self.params: p.data -= p.grad.data * self.lr\n",
        "\n",
        "  def zero_grad(self, *args, **kwargs):\n",
        "    for p in self.params: p.grad= None"
      ],
      "metadata": {
        "id": "FOBu3YVGuLbi"
      },
      "execution_count": null,
      "outputs": []
    },
    {
      "cell_type": "code",
      "source": [
        "opt= BasicOptim(linear_model.parameters(), lr)"
      ],
      "metadata": {
        "id": "T5JnjNOFwXaB"
      },
      "execution_count": null,
      "outputs": []
    },
    {
      "cell_type": "markdown",
      "source": [
        "### 이제, 학습 루프를 다음처럼 간소화 할 수 있다."
      ],
      "metadata": {
        "id": "IH8LXBTMxe_T"
      }
    },
    {
      "cell_type": "code",
      "source": [
        "def train_epoch(model):\n",
        "  for xb, yb in dl:\n",
        "    calc_grad(xb, yb, model)\n",
        "    opt.step()\n",
        "    opt.zero_grad()"
      ],
      "metadata": {
        "id": "ZI83JtiExdGo"
      },
      "execution_count": null,
      "outputs": []
    },
    {
      "cell_type": "markdown",
      "source": [
        "##### 검증용 데이터셋의 정호가도를 구하는 validate_epoch는 구현 내용을 바꾸지 않아도 잘 작동한다."
      ],
      "metadata": {
        "id": "yqWsV9b5yAsd"
      }
    },
    {
      "cell_type": "code",
      "source": [
        "validate_epoch(linear_model)"
      ],
      "metadata": {
        "colab": {
          "base_uri": "https://localhost:8080/"
        },
        "id": "6pJXFpwMxvK_",
        "outputId": "e1c49e17-0853-415a-df25-404ff9db1b64"
      },
      "execution_count": null,
      "outputs": [
        {
          "output_type": "execute_result",
          "data": {
            "text/plain": [
              "0.4884"
            ]
          },
          "metadata": {},
          "execution_count": 9
        }
      ]
    },
    {
      "cell_type": "markdown",
      "source": [
        "### 이번에는, train_model이라는 함수를 정의하고, 그 안에 학습 루프 및 검증용 데이터셋의 정확도를 구하는 과정을 모두 포함해보겠다.\n",
        "##### 이로써 좀 더 추상적인 관점에서 전체 과정을 간단히 바라볼 수 있다."
      ],
      "metadata": {
        "id": "TSDmLvJuyKKd"
      }
    },
    {
      "cell_type": "code",
      "source": [
        "def train_model(model, epochs):\n",
        "  for i in range(epochs):\n",
        "    train_epoch(model)\n",
        "    print(validate_epoch(model), end='')"
      ],
      "metadata": {
        "id": "gIuMo1vox_VW"
      },
      "execution_count": null,
      "outputs": []
    },
    {
      "cell_type": "markdown",
      "source": [
        "### 결과가 앞 절에서와 같음을 확인."
      ],
      "metadata": {
        "id": "aFpWWlKpyipv"
      }
    },
    {
      "cell_type": "code",
      "source": [
        "train_model(linear_model, 20)"
      ],
      "metadata": {
        "colab": {
          "base_uri": "https://localhost:8080/"
        },
        "id": "ntsbFO0AyiKw",
        "outputId": "d080ab5d-22ba-42e1-ec04-2f84632fa77c"
      },
      "execution_count": null,
      "outputs": [
        {
          "output_type": "stream",
          "name": "stdout",
          "text": [
            "0.49320.66550.8550.91650.93650.95020.95650.96330.96630.96720.97020.97210.97360.97510.9760.9770.97750.9780.9780.9785"
          ]
        }
      ]
    },
    {
      "cell_type": "markdown",
      "source": [
        "### fastai는 SGD클래스를 제공한다.\n",
        "##### 기본으로 설정된 SGD 클래스는 방금 만든 BasicOptim 클래스와 정호가히 가튼 방식으로 작동한다."
      ],
      "metadata": {
        "id": "9CiTT34gyppY"
      }
    },
    {
      "cell_type": "code",
      "source": [
        "linear_model= nn.Linear(28*28, 1)\n",
        "opt= SGD(linear_model.parameters(), lr)\n",
        "train_model(linear_model, 20)"
      ],
      "metadata": {
        "colab": {
          "base_uri": "https://localhost:8080/"
        },
        "id": "HSSqgtQKyo0O",
        "outputId": "ea570abf-0f8b-46c5-b40d-65b7b72c2d25"
      },
      "execution_count": null,
      "outputs": [
        {
          "output_type": "stream",
          "name": "stdout",
          "text": [
            "0.49320.82470.84620.9140.93550.94720.95650.96240.96580.96680.97020.97210.97360.97460.9760.9760.97750.97850.97850.9785"
          ]
        }
      ]
    },
    {
      "cell_type": "markdown",
      "source": [
        "### fastai는 \n",
        "#### **train_model** 함수 대신 사용할 수 있는 **Learner.fit** 도 제공한다.\n",
        "##### Learner.fit을 사용하려면, 우선 **Learner**를 생성해야 한다. 그리고 Learner를 생성하려면 DataLoaders를 만들어야 한다.\n",
        "##### DataLoaders는 학습용과 검증용 DataLoader에서 쉽게 만들 수 있다."
      ],
      "metadata": {
        "id": "LL3zEif1zChz"
      }
    },
    {
      "cell_type": "code",
      "source": [
        "dls= DataLoaders(dl, valid_dl)"
      ],
      "metadata": {
        "id": "y8d0hvePzBJd"
      },
      "execution_count": null,
      "outputs": []
    },
    {
      "cell_type": "markdown",
      "source": [
        "### cnn_learner(현 vision_learner) 같은 편리성 함수를 사용하지 않고 Learner를 생성하려면 \n",
        "#### 이 장에서 만든 모든 요소를 Learner의 생성 인자로 전달해야 한다.\n",
        "##### 즉, 기본적으로 'DataLoaders', '모델', '최적화 함수'(모델의 파라미터가 전달됨), '손실함수'가 지정되어야 하며, 추가로 출력을 원하는 '평가지표'도 함께 작성할 수 있다."
      ],
      "metadata": {
        "id": "dEwL3Oo7zsd4"
      }
    },
    {
      "cell_type": "code",
      "source": [
        "learn= Learner(dls, nn.Linear(28*28, 1), opt_func=SGD,\n",
        "               loss_func=mnist_loss, metrics= batch_accuracy)"
      ],
      "metadata": {
        "id": "0_7qUio0znKj"
      },
      "execution_count": null,
      "outputs": []
    },
    {
      "cell_type": "code",
      "source": [
        "# 이제 Learner 객체에 포함된 fit 메소드를 호출할 수 있다.\n",
        "learn.fit(10, lr= lr)"
      ],
      "metadata": {
        "colab": {
          "base_uri": "https://localhost:8080/",
          "height": 363
        },
        "id": "lMU3VoxE0pY6",
        "outputId": "ac16c59c-fabc-4fcf-c7e2-be7b63e3dc3f"
      },
      "execution_count": null,
      "outputs": [
        {
          "output_type": "display_data",
          "data": {
            "text/plain": [
              "<IPython.core.display.HTML object>"
            ],
            "text/html": [
              "\n",
              "<style>\n",
              "    /* Turns off some styling */\n",
              "    progress {\n",
              "        /* gets rid of default border in Firefox and Opera. */\n",
              "        border: none;\n",
              "        /* Needs to be in here for Safari polyfill so background images work as expected. */\n",
              "        background-size: auto;\n",
              "    }\n",
              "    progress:not([value]), progress:not([value])::-webkit-progress-bar {\n",
              "        background: repeating-linear-gradient(45deg, #7e7e7e, #7e7e7e 10px, #5c5c5c 10px, #5c5c5c 20px);\n",
              "    }\n",
              "    .progress-bar-interrupted, .progress-bar-interrupted::-webkit-progress-bar {\n",
              "        background: #F44336;\n",
              "    }\n",
              "</style>\n"
            ]
          },
          "metadata": {}
        },
        {
          "output_type": "display_data",
          "data": {
            "text/plain": [
              "<IPython.core.display.HTML object>"
            ],
            "text/html": [
              "<table border=\"1\" class=\"dataframe\">\n",
              "  <thead>\n",
              "    <tr style=\"text-align: left;\">\n",
              "      <th>epoch</th>\n",
              "      <th>train_loss</th>\n",
              "      <th>valid_loss</th>\n",
              "      <th>batch_accuracy</th>\n",
              "      <th>time</th>\n",
              "    </tr>\n",
              "  </thead>\n",
              "  <tbody>\n",
              "    <tr>\n",
              "      <td>0</td>\n",
              "      <td>0.637093</td>\n",
              "      <td>0.502737</td>\n",
              "      <td>0.495584</td>\n",
              "      <td>00:00</td>\n",
              "    </tr>\n",
              "    <tr>\n",
              "      <td>1</td>\n",
              "      <td>0.369545</td>\n",
              "      <td>0.272814</td>\n",
              "      <td>0.745339</td>\n",
              "      <td>00:00</td>\n",
              "    </tr>\n",
              "    <tr>\n",
              "      <td>2</td>\n",
              "      <td>0.141560</td>\n",
              "      <td>0.154224</td>\n",
              "      <td>0.861629</td>\n",
              "      <td>00:00</td>\n",
              "    </tr>\n",
              "    <tr>\n",
              "      <td>3</td>\n",
              "      <td>0.065627</td>\n",
              "      <td>0.097380</td>\n",
              "      <td>0.918057</td>\n",
              "      <td>00:00</td>\n",
              "    </tr>\n",
              "    <tr>\n",
              "      <td>4</td>\n",
              "      <td>0.037399</td>\n",
              "      <td>0.073108</td>\n",
              "      <td>0.936703</td>\n",
              "      <td>00:00</td>\n",
              "    </tr>\n",
              "    <tr>\n",
              "      <td>5</td>\n",
              "      <td>0.026166</td>\n",
              "      <td>0.059512</td>\n",
              "      <td>0.948970</td>\n",
              "      <td>00:00</td>\n",
              "    </tr>\n",
              "    <tr>\n",
              "      <td>6</td>\n",
              "      <td>0.021419</td>\n",
              "      <td>0.050921</td>\n",
              "      <td>0.957311</td>\n",
              "      <td>00:00</td>\n",
              "    </tr>\n",
              "    <tr>\n",
              "      <td>7</td>\n",
              "      <td>0.019218</td>\n",
              "      <td>0.045126</td>\n",
              "      <td>0.963199</td>\n",
              "      <td>00:00</td>\n",
              "    </tr>\n",
              "    <tr>\n",
              "      <td>8</td>\n",
              "      <td>0.018039</td>\n",
              "      <td>0.041000</td>\n",
              "      <td>0.966143</td>\n",
              "      <td>00:00</td>\n",
              "    </tr>\n",
              "    <tr>\n",
              "      <td>9</td>\n",
              "      <td>0.017289</td>\n",
              "      <td>0.037925</td>\n",
              "      <td>0.967125</td>\n",
              "      <td>00:00</td>\n",
              "    </tr>\n",
              "  </tbody>\n",
              "</table>"
            ]
          },
          "metadata": {}
        }
      ]
    },
    {
      "cell_type": "markdown",
      "source": [
        "# 4.7 비선형성 추가\n",
        "### 이전까지의 내용들은 **'선형 분류 모델'**에 대한 내용들이었다.\n",
        "#### 더 복잡한 일을 다루려면, 분류 모델을 **더 복잡하게** 바꿔줘야 한다.\n",
        "##### 두 선형 분류 모델(계층) 사이에 **'비선형'**을 추가하면 된다.\n",
        "### 다음은 **간단한 신경망**을 정의한 코드이다."
      ],
      "metadata": {
        "id": "9vBzyK48077i"
      }
    },
    {
      "cell_type": "code",
      "source": [
        "#def simple_net(xb):\n",
        "#  res= xb@w1 + b1\n",
        "#  res= res.max(tensor(0.0))\n",
        "#  res= res@w2 + b2\n",
        "#  return res"
      ],
      "metadata": {
        "id": "nD2dWRPL0voJ"
      },
      "execution_count": null,
      "outputs": []
    },
    {
      "cell_type": "markdown",
      "source": [
        "### 위에 작성한 simple_net은 '두 선형성'과 그 '사이에' 존재하는 'max 함수'만으로 구성된다.\n",
        "##### w1, w2는 가중치 '텐서'\n",
        "##### b1, b2는 편향 '텐서'이다.\n",
        "##### 이런 파라미터는 앞 절에서처럼 임의로 초기화된다."
      ],
      "metadata": {
        "id": "sk6pNYjX2tSz"
      }
    },
    {
      "cell_type": "code",
      "source": [
        "w1= init_params((28*28, 30))\n",
        "b1= init_params(30)\n",
        "w2= init_params((30, 1))\n",
        "b2= init_params(1)"
      ],
      "metadata": {
        "id": "MB8NlhLQ2QRl"
      },
      "execution_count": null,
      "outputs": []
    },
    {
      "cell_type": "markdown",
      "source": [
        "### w1에는 출력 활성이 30개 있다는 점이 중요하다.\n",
        "##### * w2는 w1과 **맞물릴 수 있게** 입력 활성이 30개여야 한다."
      ],
      "metadata": {
        "id": "-nNRBAn-3aOr"
      }
    },
    {
      "cell_type": "markdown",
      "source": [
        "### res.max(tensor(0.0))함수는 **'ReLU 함수'**라고도 한다.\n",
        "##### * 모든 음숫값을 0으로 교체한다.\n",
        "##### ** 파이토치는 'F.relu'로 제공한다."
      ],
      "metadata": {
        "id": "UsQNRKVKQnfG"
      }
    },
    {
      "cell_type": "code",
      "source": [
        "plot_function(F.relu)"
      ],
      "metadata": {
        "colab": {
          "base_uri": "https://localhost:8080/",
          "height": 268
        },
        "id": "a3vnCOSg3UpH",
        "outputId": "b18f9fb8-90a5-4cfa-efd2-b69dd8b4f0c4"
      },
      "execution_count": null,
      "outputs": [
        {
          "output_type": "display_data",
          "data": {
            "text/plain": [
              "<Figure size 432x288 with 1 Axes>"
            ],
            "image/png": "[encoded data removed]"
          },
          "metadata": {
            "needs_background": "light"
          }
        }
      ]
    },
    {
      "cell_type": "markdown",
      "source": [
        "### w1, w2를 충분히 큰 행렬로 구성하고, 행렬의 올바른 값을 찾을 수만 있다면, 이 단순한 함수는 모든 계산 가능한 문제를 높은 정확도로 풀어낸다.\n",
        "#### 수많은 짧은 선을 연결하면, 모든 구불구불한 함수를 추정할 수 있을 것이다. 이를 **\"일반 근사 정리\"**라고 한다.\n",
        "##### 다음 코드는 여러 '계층'을 표현한다."
      ],
      "metadata": {
        "id": "ZwJkhQqcsH28"
      }
    },
    {
      "cell_type": "code",
      "source": [
        "simple_net= nn.Sequential(\n",
        "    nn.Linear(28*28, 30),\n",
        "    nn.ReLU(),\n",
        "    nn.Linear(30, 1)\n",
        ")"
      ],
      "metadata": {
        "id": "7qS28-4CsGs8"
      },
      "execution_count": null,
      "outputs": []
    },
    {
      "cell_type": "markdown",
      "source": [
        "### nn.Sequential(): 인자로 나열된 계층을 '순차적으로' 호출하는 모듈을 생성한다.\n",
        "##### * nn.Linear(): \"선형 계층\"\n",
        "##### ** nn.ReLU(): 비선형성 또는 \"활성화 함수\""
      ],
      "metadata": {
        "id": "djFLqMQYsuKZ"
      }
    },
    {
      "cell_type": "markdown",
      "source": [
        "### nn.Sequential 또한 모듈이므로, 파라미터를 관리한다.\n",
        "#### 따라서, nn.Sequential에 포함된 '모든' 모듈에 있는 **\"파라미터 목록\"**을 얻을 수 있다."
      ],
      "metadata": {
        "id": "R0YmjRw2tDrt"
      }
    },
    {
      "cell_type": "code",
      "source": [
        "learn= Learner(dls, simple_net, opt_func=SGD,\n",
        "               loss_func= mnist_loss, metrics= batch_accuracy)\n",
        "learn.fit(40, 0.1)"
      ],
      "metadata": {
        "colab": {
          "base_uri": "https://localhost:8080/",
          "height": 1000
        },
        "id": "cWb93z_WsqNT",
        "outputId": "829576fe-de64-4dc5-a6ba-be18ae827260"
      },
      "execution_count": null,
      "outputs": [
        {
          "output_type": "display_data",
          "data": {
            "text/plain": [
              "<IPython.core.display.HTML object>"
            ],
            "text/html": [
              "\n",
              "<style>\n",
              "    /* Turns off some styling */\n",
              "    progress {\n",
              "        /* gets rid of default border in Firefox and Opera. */\n",
              "        border: none;\n",
              "        /* Needs to be in here for Safari polyfill so background images work as expected. */\n",
              "        background-size: auto;\n",
              "    }\n",
              "    progress:not([value]), progress:not([value])::-webkit-progress-bar {\n",
              "        background: repeating-linear-gradient(45deg, #7e7e7e, #7e7e7e 10px, #5c5c5c 10px, #5c5c5c 20px);\n",
              "    }\n",
              "    .progress-bar-interrupted, .progress-bar-interrupted::-webkit-progress-bar {\n",
              "        background: #F44336;\n",
              "    }\n",
              "</style>\n"
            ]
          },
          "metadata": {}
        },
        {
          "output_type": "display_data",
          "data": {
            "text/plain": [
              "<IPython.core.display.HTML object>"
            ],
            "text/html": [
              "<table border=\"1\" class=\"dataframe\">\n",
              "  <thead>\n",
              "    <tr style=\"text-align: left;\">\n",
              "      <th>epoch</th>\n",
              "      <th>train_loss</th>\n",
              "      <th>valid_loss</th>\n",
              "      <th>batch_accuracy</th>\n",
              "      <th>time</th>\n",
              "    </tr>\n",
              "  </thead>\n",
              "  <tbody>\n",
              "    <tr>\n",
              "      <td>0</td>\n",
              "      <td>0.321553</td>\n",
              "      <td>0.398654</td>\n",
              "      <td>0.509323</td>\n",
              "      <td>00:00</td>\n",
              "    </tr>\n",
              "    <tr>\n",
              "      <td>1</td>\n",
              "      <td>0.148813</td>\n",
              "      <td>0.229344</td>\n",
              "      <td>0.803729</td>\n",
              "      <td>00:00</td>\n",
              "    </tr>\n",
              "    <tr>\n",
              "      <td>2</td>\n",
              "      <td>0.082180</td>\n",
              "      <td>0.115545</td>\n",
              "      <td>0.912169</td>\n",
              "      <td>00:00</td>\n",
              "    </tr>\n",
              "    <tr>\n",
              "      <td>3</td>\n",
              "      <td>0.053814</td>\n",
              "      <td>0.077860</td>\n",
              "      <td>0.941609</td>\n",
              "      <td>00:00</td>\n",
              "    </tr>\n",
              "    <tr>\n",
              "      <td>4</td>\n",
              "      <td>0.040673</td>\n",
              "      <td>0.060659</td>\n",
              "      <td>0.958292</td>\n",
              "      <td>00:00</td>\n",
              "    </tr>\n",
              "    <tr>\n",
              "      <td>5</td>\n",
              "      <td>0.033984</td>\n",
              "      <td>0.051013</td>\n",
              "      <td>0.963690</td>\n",
              "      <td>00:00</td>\n",
              "    </tr>\n",
              "    <tr>\n",
              "      <td>6</td>\n",
              "      <td>0.030156</td>\n",
              "      <td>0.044946</td>\n",
              "      <td>0.965162</td>\n",
              "      <td>00:00</td>\n",
              "    </tr>\n",
              "    <tr>\n",
              "      <td>7</td>\n",
              "      <td>0.027680</td>\n",
              "      <td>0.040815</td>\n",
              "      <td>0.967615</td>\n",
              "      <td>00:00</td>\n",
              "    </tr>\n",
              "    <tr>\n",
              "      <td>8</td>\n",
              "      <td>0.025901</td>\n",
              "      <td>0.037830</td>\n",
              "      <td>0.969578</td>\n",
              "      <td>00:00</td>\n",
              "    </tr>\n",
              "    <tr>\n",
              "      <td>9</td>\n",
              "      <td>0.024526</td>\n",
              "      <td>0.035563</td>\n",
              "      <td>0.970559</td>\n",
              "      <td>00:00</td>\n",
              "    </tr>\n",
              "    <tr>\n",
              "      <td>10</td>\n",
              "      <td>0.023413</td>\n",
              "      <td>0.033774</td>\n",
              "      <td>0.972522</td>\n",
              "      <td>00:00</td>\n",
              "    </tr>\n",
              "    <tr>\n",
              "      <td>11</td>\n",
              "      <td>0.022484</td>\n",
              "      <td>0.032314</td>\n",
              "      <td>0.973503</td>\n",
              "      <td>00:00</td>\n",
              "    </tr>\n",
              "    <tr>\n",
              "      <td>12</td>\n",
              "      <td>0.021693</td>\n",
              "      <td>0.031091</td>\n",
              "      <td>0.974975</td>\n",
              "      <td>00:00</td>\n",
              "    </tr>\n",
              "    <tr>\n",
              "      <td>13</td>\n",
              "      <td>0.021008</td>\n",
              "      <td>0.030044</td>\n",
              "      <td>0.975466</td>\n",
              "      <td>00:00</td>\n",
              "    </tr>\n",
              "    <tr>\n",
              "      <td>14</td>\n",
              "      <td>0.020408</td>\n",
              "      <td>0.029130</td>\n",
              "      <td>0.975957</td>\n",
              "      <td>00:00</td>\n",
              "    </tr>\n",
              "    <tr>\n",
              "      <td>15</td>\n",
              "      <td>0.019877</td>\n",
              "      <td>0.028323</td>\n",
              "      <td>0.976938</td>\n",
              "      <td>00:00</td>\n",
              "    </tr>\n",
              "    <tr>\n",
              "      <td>16</td>\n",
              "      <td>0.019401</td>\n",
              "      <td>0.027603</td>\n",
              "      <td>0.976938</td>\n",
              "      <td>00:00</td>\n",
              "    </tr>\n",
              "    <tr>\n",
              "      <td>17</td>\n",
              "      <td>0.018972</td>\n",
              "      <td>0.026955</td>\n",
              "      <td>0.977920</td>\n",
              "      <td>00:00</td>\n",
              "    </tr>\n",
              "    <tr>\n",
              "      <td>18</td>\n",
              "      <td>0.018581</td>\n",
              "      <td>0.026368</td>\n",
              "      <td>0.977920</td>\n",
              "      <td>00:00</td>\n",
              "    </tr>\n",
              "    <tr>\n",
              "      <td>19</td>\n",
              "      <td>0.018224</td>\n",
              "      <td>0.025835</td>\n",
              "      <td>0.977920</td>\n",
              "      <td>00:00</td>\n",
              "    </tr>\n",
              "    <tr>\n",
              "      <td>20</td>\n",
              "      <td>0.017895</td>\n",
              "      <td>0.025348</td>\n",
              "      <td>0.979392</td>\n",
              "      <td>00:00</td>\n",
              "    </tr>\n",
              "    <tr>\n",
              "      <td>21</td>\n",
              "      <td>0.017591</td>\n",
              "      <td>0.024901</td>\n",
              "      <td>0.979392</td>\n",
              "      <td>00:00</td>\n",
              "    </tr>\n",
              "    <tr>\n",
              "      <td>22</td>\n",
              "      <td>0.017307</td>\n",
              "      <td>0.024490</td>\n",
              "      <td>0.979882</td>\n",
              "      <td>00:00</td>\n",
              "    </tr>\n",
              "    <tr>\n",
              "      <td>23</td>\n",
              "      <td>0.017043</td>\n",
              "      <td>0.024111</td>\n",
              "      <td>0.980864</td>\n",
              "      <td>00:00</td>\n",
              "    </tr>\n",
              "    <tr>\n",
              "      <td>24</td>\n",
              "      <td>0.016795</td>\n",
              "      <td>0.023760</td>\n",
              "      <td>0.980864</td>\n",
              "      <td>00:00</td>\n",
              "    </tr>\n",
              "    <tr>\n",
              "      <td>25</td>\n",
              "      <td>0.016562</td>\n",
              "      <td>0.023435</td>\n",
              "      <td>0.980864</td>\n",
              "      <td>00:00</td>\n",
              "    </tr>\n",
              "    <tr>\n",
              "      <td>26</td>\n",
              "      <td>0.016341</td>\n",
              "      <td>0.023133</td>\n",
              "      <td>0.981354</td>\n",
              "      <td>00:00</td>\n",
              "    </tr>\n",
              "    <tr>\n",
              "      <td>27</td>\n",
              "      <td>0.016133</td>\n",
              "      <td>0.022851</td>\n",
              "      <td>0.981354</td>\n",
              "      <td>00:00</td>\n",
              "    </tr>\n",
              "    <tr>\n",
              "      <td>28</td>\n",
              "      <td>0.015936</td>\n",
              "      <td>0.022590</td>\n",
              "      <td>0.981354</td>\n",
              "      <td>00:00</td>\n",
              "    </tr>\n",
              "    <tr>\n",
              "      <td>29</td>\n",
              "      <td>0.015748</td>\n",
              "      <td>0.022346</td>\n",
              "      <td>0.981845</td>\n",
              "      <td>00:00</td>\n",
              "    </tr>\n",
              "    <tr>\n",
              "      <td>30</td>\n",
              "      <td>0.015569</td>\n",
              "      <td>0.022117</td>\n",
              "      <td>0.982336</td>\n",
              "      <td>00:00</td>\n",
              "    </tr>\n",
              "    <tr>\n",
              "      <td>31</td>\n",
              "      <td>0.015399</td>\n",
              "      <td>0.021904</td>\n",
              "      <td>0.982336</td>\n",
              "      <td>00:00</td>\n",
              "    </tr>\n",
              "    <tr>\n",
              "      <td>32</td>\n",
              "      <td>0.015236</td>\n",
              "      <td>0.021704</td>\n",
              "      <td>0.982336</td>\n",
              "      <td>00:00</td>\n",
              "    </tr>\n",
              "    <tr>\n",
              "      <td>33</td>\n",
              "      <td>0.015081</td>\n",
              "      <td>0.021516</td>\n",
              "      <td>0.982336</td>\n",
              "      <td>00:00</td>\n",
              "    </tr>\n",
              "    <tr>\n",
              "      <td>34</td>\n",
              "      <td>0.014932</td>\n",
              "      <td>0.021339</td>\n",
              "      <td>0.982336</td>\n",
              "      <td>00:00</td>\n",
              "    </tr>\n",
              "    <tr>\n",
              "      <td>35</td>\n",
              "      <td>0.014789</td>\n",
              "      <td>0.021172</td>\n",
              "      <td>0.982336</td>\n",
              "      <td>00:00</td>\n",
              "    </tr>\n",
              "    <tr>\n",
              "      <td>36</td>\n",
              "      <td>0.014651</td>\n",
              "      <td>0.021015</td>\n",
              "      <td>0.982336</td>\n",
              "      <td>00:00</td>\n",
              "    </tr>\n",
              "    <tr>\n",
              "      <td>37</td>\n",
              "      <td>0.014519</td>\n",
              "      <td>0.020866</td>\n",
              "      <td>0.981845</td>\n",
              "      <td>00:00</td>\n",
              "    </tr>\n",
              "    <tr>\n",
              "      <td>38</td>\n",
              "      <td>0.014391</td>\n",
              "      <td>0.020725</td>\n",
              "      <td>0.981845</td>\n",
              "      <td>00:00</td>\n",
              "    </tr>\n",
              "    <tr>\n",
              "      <td>39</td>\n",
              "      <td>0.014268</td>\n",
              "      <td>0.020591</td>\n",
              "      <td>0.981845</td>\n",
              "      <td>00:00</td>\n",
              "    </tr>\n",
              "  </tbody>\n",
              "</table>"
            ]
          },
          "metadata": {}
        }
      ]
    },
    {
      "cell_type": "markdown",
      "source": [
        "### 학습 과정은 learn.recorder에 기록된다.\n",
        "##### learn.fit(): 피팅함수, pretrained 모델을 사용하지 않기 때문에 fine_tune 함수는 사용하지 않는다."
      ],
      "metadata": {
        "id": "yIfuox6UtgIB"
      }
    },
    {
      "cell_type": "code",
      "source": [
        "plt.plot(L(learn.recorder.values).itemgot(2));"
      ],
      "metadata": {
        "colab": {
          "base_uri": "https://localhost:8080/",
          "height": 271
        },
        "id": "uzfef-VQtdiw",
        "outputId": "ab4a4cb7-91c6-4980-8972-ee262be2e2ab"
      },
      "execution_count": null,
      "outputs": [
        {
          "output_type": "display_data",
          "data": {
            "text/plain": [
              "<Figure size 432x288 with 1 Axes>"
            ],
            "image/png": "[encoded data removed]"
          },
          "metadata": {
            "needs_background": "light"
          }
        }
      ]
    },
    {
      "cell_type": "markdown",
      "source": [
        "##### 마지막에 기록된 정확도를 출력할 수도 있음."
      ],
      "metadata": {
        "id": "R2983PbyuhmN"
      }
    },
    {
      "cell_type": "code",
      "source": [
        "learn.recorder.values[-1][2]"
      ],
      "metadata": {
        "colab": {
          "base_uri": "https://localhost:8080/"
        },
        "id": "tpsvITtdudXq",
        "outputId": "2f84dc4d-8a51-4c0b-b158-f968fbb0ff40"
      },
      "execution_count": null,
      "outputs": [
        {
          "output_type": "execute_result",
          "data": {
            "text/plain": [
              "0.981844961643219"
            ]
          },
          "metadata": {},
          "execution_count": 22
        }
      ]
    },
    {
      "cell_type": "markdown",
      "source": [
        "# 4.7.1 좀 더 깊은 모델"
      ],
      "metadata": {
        "id": "XcqjyZliur2v"
      }
    },
    {
      "cell_type": "code",
      "source": [
        "dls= ImageDataLoaders.from_folder(path)\n",
        "learn= vision_learner(dls, resnet18, pretrained= False,\n",
        "                   loss_func= F.cross_entropy, metrics= accuracy)\n",
        "\n",
        "learn.fit_one_cycle(1, 0.1)"
      ],
      "metadata": {
        "colab": {
          "base_uri": "https://localhost:8080/",
          "height": 81
        },
        "id": "yEhCYfKmuuZ1",
        "outputId": "5ede84d7-7bde-4606-8f17-2bc4bd8275e2"
      },
      "execution_count": null,
      "outputs": [
        {
          "output_type": "display_data",
          "data": {
            "text/plain": [
              "<IPython.core.display.HTML object>"
            ],
            "text/html": [
              "\n",
              "<style>\n",
              "    /* Turns off some styling */\n",
              "    progress {\n",
              "        /* gets rid of default border in Firefox and Opera. */\n",
              "        border: none;\n",
              "        /* Needs to be in here for Safari polyfill so background images work as expected. */\n",
              "        background-size: auto;\n",
              "    }\n",
              "    progress:not([value]), progress:not([value])::-webkit-progress-bar {\n",
              "        background: repeating-linear-gradient(45deg, #7e7e7e, #7e7e7e 10px, #5c5c5c 10px, #5c5c5c 20px);\n",
              "    }\n",
              "    .progress-bar-interrupted, .progress-bar-interrupted::-webkit-progress-bar {\n",
              "        background: #F44336;\n",
              "    }\n",
              "</style>\n"
            ]
          },
          "metadata": {}
        },
        {
          "output_type": "display_data",
          "data": {
            "text/plain": [
              "<IPython.core.display.HTML object>"
            ],
            "text/html": [
              "<table border=\"1\" class=\"dataframe\">\n",
              "  <thead>\n",
              "    <tr style=\"text-align: left;\">\n",
              "      <th>epoch</th>\n",
              "      <th>train_loss</th>\n",
              "      <th>valid_loss</th>\n",
              "      <th>accuracy</th>\n",
              "      <th>time</th>\n",
              "    </tr>\n",
              "  </thead>\n",
              "  <tbody>\n",
              "    <tr>\n",
              "      <td>0</td>\n",
              "      <td>0.103369</td>\n",
              "      <td>0.015079</td>\n",
              "      <td>0.995584</td>\n",
              "      <td>01:59</td>\n",
              "    </tr>\n",
              "  </tbody>\n",
              "</table>"
            ]
          },
          "metadata": {}
        }
      ]
    }
  ]
}