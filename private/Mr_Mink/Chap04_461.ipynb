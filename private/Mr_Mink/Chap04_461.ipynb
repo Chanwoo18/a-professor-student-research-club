{
  "nbformat": 4,
  "nbformat_minor": 0,
  "metadata": {
    "colab": {
      "provenance": []
    },
    "kernelspec": {
      "name": "python3",
      "display_name": "Python 3"
    },
    "language_info": {
      "name": "python"
    },
    "accelerator": "GPU",
    "gpuClass": "standard"
  },
  "cells": [
    {
      "cell_type": "code",
      "source": [
        "from fastai.vision.all import *\n",
        "\n",
        "path= untar_data(URLs.MNIST_SAMPLE)\n",
        "threes= (path/'train'/'3').ls().sorted()\n",
        "sevens= (path/'train'/'7').ls().sorted()\n",
        "\n",
        "three_tensors= [tensor(Image.open(o)) for o in threes]\n",
        "seven_tensors= [tensor(Image.open(o)) for o in sevens]\n",
        "\n",
        "stacked_threes= torch.stack(three_tensors).float()/255\n",
        "stacked_sevens= torch.stack(seven_tensors).float()/255\n",
        "\n",
        "train_x = torch.cat([stacked_threes, stacked_sevens]).view(-1, 28 * 28)\n",
        "\n",
        "def mnist_loss(predictions, targets):\n",
        "  return torch.where(targets==1, 1-predictions, predictions).mean()\n",
        "\n",
        "valid_3_tens= torch.stack([tensor(Image.open(o)) for o in (path/'valid'/'3').ls()])\n",
        "valid_7_tens= torch.stack([tensor(Image.open(o)) for o in (path/'valid'/'7').ls()])\n",
        "\n",
        "valid_3_tens= valid_3_tens.float()/255\n",
        "valid_7_tens= valid_7_tens.float()/255\n",
        "\n",
        "def sigmoid(x): return 1/(1+torch.exp(-x))\n",
        "\n",
        "def mnist_loss(predictions, targets):\n",
        "  predictions= predictions.sigmoid()\n",
        "  return torch.where(targets== 1, 1-predictions, predictions).mean()\n",
        "\n",
        "train_x= torch.cat([stacked_threes, stacked_sevens]).view(-1, 28*28)\n",
        "train_y= tensor([1]*len(threes) + [0]*len(sevens)).unsqueeze(1)\n",
        "\n",
        "dset= list(zip(train_x, train_y))\n",
        "\n",
        "valid_x= torch.cat([valid_3_tens, valid_7_tens]).view(-1, 28*28)\n",
        "valid_y= tensor([1]*len(valid_3_tens) + [0]*len(valid_7_tens)).unsqueeze(1)\n",
        "\n",
        "valid_dset= list(zip(valid_x, valid_y))\n",
        "\n",
        "def init_params(size, std=1.0): return (torch.randn(size)*std).requires_grad_()\n",
        "\n",
        "def linear1(xb): return xb@weights + bias\n",
        "\n",
        "weights= init_params((28*28, 1))\n",
        "bias= init_params(1)\n",
        "\n",
        "dl= DataLoader(dset, batch_size= 256)\n",
        "xb, yb= first(dl)\n",
        "\n",
        "valid_dl= DataLoader(valid_dset, batch_size=256)\n",
        "\n",
        "batch= train_x[:4]\n",
        "\n",
        "preds= linear1(batch)\n",
        "\n",
        "loss= mnist_loss(preds, train_y[:4])\n",
        "\n",
        "loss.backward()\n",
        "\n",
        "def calc_grad(xb, yb, model):\n",
        "  preds= model(xb)\n",
        "  loss= mnist_loss(preds, yb)\n",
        "  loss.backward()\n",
        "\n",
        "calc_grad(batch, train_y[:4], linear1)\n",
        "\n",
        "weights.grad.zero_()\n",
        "bias.grad.zero_();\n",
        "\n",
        "def train_epoch(model, lr, params):\n",
        "  for xb, yb in dl:\n",
        "    calc_grad(xb, yb, model)\n",
        "    for p in params:\n",
        "      p.data -= p.grad * lr\n",
        "      p.grad.zero_()\n",
        "\n",
        "def batch_accuracy(xb, yb):\n",
        "  preds= xb.sigmoid()\n",
        "  correct= (preds>0.5) == yb\n",
        "  return correct.float().mean()\n",
        "\n",
        "def validate_epoch(model):\n",
        "  accs= [batch_accuracy(model(xb), yb) for xb, yb in valid_dl]\n",
        "  return round(torch.stack(accs).mean().item(), 4)\n",
        "\n",
        "lr= 1.\n",
        "params= weights, bias\n",
        "train_epoch(linear1, lr, params)\n",
        "validate_epoch(linear1)"
      ],
      "metadata": {
        "colab": {
          "base_uri": "https://localhost:8080/",
          "height": 56
        },
        "id": "qOi0I9pDcKOp",
        "outputId": "e580ee86-cf7f-4d48-ab6b-b3a3f861c368"
      },
      "execution_count": 6,
      "outputs": [
        {
          "output_type": "display_data",
          "data": {
            "text/plain": [
              "<IPython.core.display.HTML object>"
            ],
            "text/html": [
              "\n",
              "<style>\n",
              "    /* Turns off some styling */\n",
              "    progress {\n",
              "        /* gets rid of default border in Firefox and Opera. */\n",
              "        border: none;\n",
              "        /* Needs to be in here for Safari polyfill so background images work as expected. */\n",
              "        background-size: auto;\n",
              "    }\n",
              "    progress:not([value]), progress:not([value])::-webkit-progress-bar {\n",
              "        background: repeating-linear-gradient(45deg, #7e7e7e, #7e7e7e 10px, #5c5c5c 10px, #5c5c5c 20px);\n",
              "    }\n",
              "    .progress-bar-interrupted, .progress-bar-interrupted::-webkit-progress-bar {\n",
              "        background: #F44336;\n",
              "    }\n",
              "</style>\n"
            ]
          },
          "metadata": {}
        },
        {
          "output_type": "display_data",
          "data": {
            "text/plain": [
              "<IPython.core.display.HTML object>"
            ],
            "text/html": [
              "\n",
              "    <div>\n",
              "      <progress value='3219456' class='' max='3214948' style='width:300px; height:20px; vertical-align: middle;'></progress>\n",
              "      100.14% [3219456/3214948 00:00&lt;00:00]\n",
              "    </div>\n",
              "    "
            ]
          },
          "metadata": {}
        },
        {
          "output_type": "execute_result",
          "data": {
            "text/plain": [
              "0.6"
            ]
          },
          "metadata": {},
          "execution_count": 6
        }
      ]
    },
    {
      "cell_type": "markdown",
      "source": [
        "# 4.6.1 옵티마이저 만들기\n",
        "### 가장 먼저 시도할 일\n",
        "#### linear1 함수를 파이토치의 nn.Linear 모듈로 대체하는 것.\n",
        "##### * '모듈': 파이토치의 nn.Module 클래스를 상속받은 클래스 객체를 의미.\n",
        "### nn.Linear는\n",
        "##### * 앞서 만든 init_params 및 linear의 작동을 하나로 수행한다.\n",
        "##### ** 단일 클래스 내에 '가중치'와 '편향' 모두가 저장된다.\n"
      ],
      "metadata": {
        "id": "nP9HTaNdV8_o"
      }
    },
    {
      "cell_type": "code",
      "execution_count": 7,
      "metadata": {
        "id": "7s8_pDfzVg5e"
      },
      "outputs": [],
      "source": [
        "linear_model = nn.Linear(28*28, 1)"
      ]
    },
    {
      "cell_type": "markdown",
      "source": [
        "### 파라미터 목록은 parameters 메소드로 접근할 수 있다."
      ],
      "metadata": {
        "id": "62oKhQD0V8Zw"
      }
    },
    {
      "cell_type": "code",
      "source": [
        "w, b= linear_model.parameters()\n",
        "w.shape, b.shape"
      ],
      "metadata": {
        "colab": {
          "base_uri": "https://localhost:8080/"
        },
        "id": "n5R3TjAMtiGw",
        "outputId": "33720a83-324f-4722-9136-521da2c504c9"
      },
      "execution_count": 8,
      "outputs": [
        {
          "output_type": "execute_result",
          "data": {
            "text/plain": [
              "(torch.Size([1, 784]), torch.Size([1]))"
            ]
          },
          "metadata": {},
          "execution_count": 8
        }
      ]
    },
    {
      "cell_type": "markdown",
      "source": [
        "##### 이 파라미터 정보는 옵티마이저를 정의하는데 활용할 수 있다."
      ],
      "metadata": {
        "id": "e-uSH6ZluMmI"
      }
    },
    {
      "cell_type": "code",
      "source": [
        "class BasicOptim:\n",
        "  def __init__(self, params, lr): self.params, self.lr= list(params), lr\n",
        "\n",
        "  def step(self, *args, **kwargs):\n",
        "    for p in self.params: p.data -= p.grad.data * self.lr\n",
        "\n",
        "  def zero_grad(self, *args, **kwargs):\n",
        "    for p in self.params: p.grad= None"
      ],
      "metadata": {
        "id": "FOBu3YVGuLbi"
      },
      "execution_count": 9,
      "outputs": []
    },
    {
      "cell_type": "code",
      "source": [
        "opt= BasicOptim(linear_model.parameters(), lr)"
      ],
      "metadata": {
        "id": "T5JnjNOFwXaB"
      },
      "execution_count": 11,
      "outputs": []
    },
    {
      "cell_type": "markdown",
      "source": [
        "### 이제, 학습 루프를 다음처럼 간소화 할 수 있다."
      ],
      "metadata": {
        "id": "IH8LXBTMxe_T"
      }
    },
    {
      "cell_type": "code",
      "source": [
        "def train_epoch(model):\n",
        "  for xb, yb in dl:\n",
        "    calc_grad(xb, yb, model)\n",
        "    opt.step()\n",
        "    opt.zero_grad()"
      ],
      "metadata": {
        "id": "ZI83JtiExdGo"
      },
      "execution_count": 12,
      "outputs": []
    },
    {
      "cell_type": "markdown",
      "source": [
        "##### 검증용 데이터셋의 정호가도를 구하는 validate_epoch는 구현 내용을 바꾸지 않아도 잘 작동한다."
      ],
      "metadata": {
        "id": "yqWsV9b5yAsd"
      }
    },
    {
      "cell_type": "code",
      "source": [
        "validate_epoch(linear_model)"
      ],
      "metadata": {
        "colab": {
          "base_uri": "https://localhost:8080/"
        },
        "id": "6pJXFpwMxvK_",
        "outputId": "57e3bc99-c363-4f1d-9c73-20cebf1dc125"
      },
      "execution_count": 13,
      "outputs": [
        {
          "output_type": "execute_result",
          "data": {
            "text/plain": [
              "0.4298"
            ]
          },
          "metadata": {},
          "execution_count": 13
        }
      ]
    },
    {
      "cell_type": "markdown",
      "source": [
        "### 이번에는, train_model이라는 함수를 정의하고, 그 안에 학습 루프 및 검증용 데이터셋의 정확도를 구하는 과정을 모두 포함해보겠다.\n",
        "##### 이로써 좀 더 추상적인 관점에서 전체 과정을 간단히 바라볼 수 있다."
      ],
      "metadata": {
        "id": "TSDmLvJuyKKd"
      }
    },
    {
      "cell_type": "code",
      "source": [
        "def train_model(model, epochs):\n",
        "  for i in range(epochs):\n",
        "    train_epoch(model)\n",
        "    print(validate_epoch(model), end='')"
      ],
      "metadata": {
        "id": "gIuMo1vox_VW"
      },
      "execution_count": 14,
      "outputs": []
    },
    {
      "cell_type": "markdown",
      "source": [
        "### 결과가 앞 절에서와 같음을 확인."
      ],
      "metadata": {
        "id": "aFpWWlKpyipv"
      }
    },
    {
      "cell_type": "code",
      "source": [
        "train_model(linear_model, 20)"
      ],
      "metadata": {
        "colab": {
          "base_uri": "https://localhost:8080/"
        },
        "id": "ntsbFO0AyiKw",
        "outputId": "949967da-c44b-427f-9140-95e0544c7f39"
      },
      "execution_count": 15,
      "outputs": [
        {
          "output_type": "stream",
          "name": "stdout",
          "text": [
            "0.49320.74950.85450.9170.93450.94870.95650.96290.96580.96770.97070.97210.97360.97510.97550.9770.97750.9780.97850.9785"
          ]
        }
      ]
    },
    {
      "cell_type": "markdown",
      "source": [
        "### fastai는 SGD클래스를 제공한다.\n",
        "##### 기본으로 설정된 SGD 클래스는 방금 만든 BasicOptim 클래스와 정호가히 가튼 방식으로 작동한다."
      ],
      "metadata": {
        "id": "9CiTT34gyppY"
      }
    },
    {
      "cell_type": "code",
      "source": [
        "linear_model= nn.Linear(28*28, 1)\n",
        "opt= SGD(linear_model.parameters(), lr)\n",
        "train_model(linear_model, 20)"
      ],
      "metadata": {
        "colab": {
          "base_uri": "https://localhost:8080/"
        },
        "id": "HSSqgtQKyo0O",
        "outputId": "c7f1dfd8-b8f8-47cb-cfbf-759799552cca"
      },
      "execution_count": 16,
      "outputs": [
        {
          "output_type": "stream",
          "name": "stdout",
          "text": [
            "0.49320.89990.80760.90770.93310.94770.9550.96140.96480.96720.96920.97120.97260.97510.97550.97650.97750.9780.97850.9785"
          ]
        }
      ]
    },
    {
      "cell_type": "markdown",
      "source": [
        "### fastai는 \n",
        "#### **train_model** 함수 대신 사용할 수 있는 **Learner.fit** 도 제공한다.\n",
        "##### Learner.fit을 사용하려면, 우선 **Learner**를 생성해야 한다. 그리고 Learner를 생성하려면 DataLoaders를 만들어야 한다.\n",
        "##### DataLoaders는 학습용과 검증용 DataLoader에서 쉽게 만들 수 있다."
      ],
      "metadata": {
        "id": "LL3zEif1zChz"
      }
    },
    {
      "cell_type": "code",
      "source": [
        "dls= DataLoaders(dl, valid_dl)"
      ],
      "metadata": {
        "id": "y8d0hvePzBJd"
      },
      "execution_count": 17,
      "outputs": []
    },
    {
      "cell_type": "markdown",
      "source": [
        "### cnn_learner(현 vision_learner) 같은 편리성 함수를 사용하지 않고 Learner를 생성하려면 \n",
        "#### 이 장에서 만든 모든 요소를 Learner의 생성 인자로 전달해야 한다.\n",
        "##### 즉, 기본적으로 'DataLoaders', '모델', '최적화 함수'(모델의 파라미터가 전달됨), '손실함수'가 지정되어야 하며, 추가로 출력을 원하는 '평가지표'도 함께 작성할 수 있다."
      ],
      "metadata": {
        "id": "dEwL3Oo7zsd4"
      }
    },
    {
      "cell_type": "code",
      "source": [
        "learn= Learner(dls, nn.Linear(28*28, 1), opt_func=SGD,\n",
        "               loss_func=mnist_loss, metrics= batch_accuracy)"
      ],
      "metadata": {
        "id": "0_7qUio0znKj"
      },
      "execution_count": 18,
      "outputs": []
    },
    {
      "cell_type": "code",
      "source": [
        "# 이제 Learner 객체에 포함된 fit 메소드를 호출할 수 있다.\n",
        "learn.fit(10, lr= lr)"
      ],
      "metadata": {
        "colab": {
          "base_uri": "https://localhost:8080/",
          "height": 363
        },
        "id": "lMU3VoxE0pY6",
        "outputId": "9c0f7aec-86ed-4ad2-8ff8-52a23924fa45"
      },
      "execution_count": 19,
      "outputs": [
        {
          "output_type": "display_data",
          "data": {
            "text/plain": [
              "<IPython.core.display.HTML object>"
            ],
            "text/html": [
              "\n",
              "<style>\n",
              "    /* Turns off some styling */\n",
              "    progress {\n",
              "        /* gets rid of default border in Firefox and Opera. */\n",
              "        border: none;\n",
              "        /* Needs to be in here for Safari polyfill so background images work as expected. */\n",
              "        background-size: auto;\n",
              "    }\n",
              "    progress:not([value]), progress:not([value])::-webkit-progress-bar {\n",
              "        background: repeating-linear-gradient(45deg, #7e7e7e, #7e7e7e 10px, #5c5c5c 10px, #5c5c5c 20px);\n",
              "    }\n",
              "    .progress-bar-interrupted, .progress-bar-interrupted::-webkit-progress-bar {\n",
              "        background: #F44336;\n",
              "    }\n",
              "</style>\n"
            ]
          },
          "metadata": {}
        },
        {
          "output_type": "display_data",
          "data": {
            "text/plain": [
              "<IPython.core.display.HTML object>"
            ],
            "text/html": [
              "<table border=\"1\" class=\"dataframe\">\n",
              "  <thead>\n",
              "    <tr style=\"text-align: left;\">\n",
              "      <th>epoch</th>\n",
              "      <th>train_loss</th>\n",
              "      <th>valid_loss</th>\n",
              "      <th>batch_accuracy</th>\n",
              "      <th>time</th>\n",
              "    </tr>\n",
              "  </thead>\n",
              "  <tbody>\n",
              "    <tr>\n",
              "      <td>0</td>\n",
              "      <td>0.636517</td>\n",
              "      <td>0.503277</td>\n",
              "      <td>0.495584</td>\n",
              "      <td>00:00</td>\n",
              "    </tr>\n",
              "    <tr>\n",
              "      <td>1</td>\n",
              "      <td>0.459903</td>\n",
              "      <td>0.218181</td>\n",
              "      <td>0.807655</td>\n",
              "      <td>00:00</td>\n",
              "    </tr>\n",
              "    <tr>\n",
              "      <td>2</td>\n",
              "      <td>0.171033</td>\n",
              "      <td>0.164940</td>\n",
              "      <td>0.852306</td>\n",
              "      <td>00:00</td>\n",
              "    </tr>\n",
              "    <tr>\n",
              "      <td>3</td>\n",
              "      <td>0.076197</td>\n",
              "      <td>0.100494</td>\n",
              "      <td>0.918057</td>\n",
              "      <td>00:00</td>\n",
              "    </tr>\n",
              "    <tr>\n",
              "      <td>4</td>\n",
              "      <td>0.041202</td>\n",
              "      <td>0.074635</td>\n",
              "      <td>0.935721</td>\n",
              "      <td>00:00</td>\n",
              "    </tr>\n",
              "    <tr>\n",
              "      <td>5</td>\n",
              "      <td>0.027492</td>\n",
              "      <td>0.060399</td>\n",
              "      <td>0.948479</td>\n",
              "      <td>00:00</td>\n",
              "    </tr>\n",
              "    <tr>\n",
              "      <td>6</td>\n",
              "      <td>0.021831</td>\n",
              "      <td>0.051428</td>\n",
              "      <td>0.956330</td>\n",
              "      <td>00:00</td>\n",
              "    </tr>\n",
              "    <tr>\n",
              "      <td>7</td>\n",
              "      <td>0.019293</td>\n",
              "      <td>0.045404</td>\n",
              "      <td>0.964181</td>\n",
              "      <td>00:00</td>\n",
              "    </tr>\n",
              "    <tr>\n",
              "      <td>8</td>\n",
              "      <td>0.017992</td>\n",
              "      <td>0.041138</td>\n",
              "      <td>0.966143</td>\n",
              "      <td>00:00</td>\n",
              "    </tr>\n",
              "    <tr>\n",
              "      <td>9</td>\n",
              "      <td>0.017202</td>\n",
              "      <td>0.037976</td>\n",
              "      <td>0.968106</td>\n",
              "      <td>00:00</td>\n",
              "    </tr>\n",
              "  </tbody>\n",
              "</table>"
            ]
          },
          "metadata": {}
        }
      ]
    },
    {
      "cell_type": "markdown",
      "source": [
        "# 4.7 비선형성 추가\n",
        "### 이전까지의 내용들은 **'선형 분류 모델'**에 대한 내용들이었다.\n",
        "#### 더 복잡한 일을 다루려면, 분류 모델을 **더 복잡하게** 바꿔줘야 한다.\n",
        "##### 두 선형 분류 모델(계층) 사이에 **'비선형'**을 추가하면 된다.\n",
        "### 다음은 **간단한 신경망**을 정의한 코드이다."
      ],
      "metadata": {
        "id": "9vBzyK48077i"
      }
    },
    {
      "cell_type": "code",
      "source": [
        "#def simple_net(xb):\n",
        "#  res= xb@w1 + b1\n",
        "#  res= res.max(tensor(0.0))\n",
        "#  res= res@w2 + b2\n",
        "#  return res"
      ],
      "metadata": {
        "id": "nD2dWRPL0voJ"
      },
      "execution_count": 20,
      "outputs": []
    },
    {
      "cell_type": "markdown",
      "source": [
        "### 위에 작성한 simple_net은 '두 선형성'과 그 '사이에' 존재하는 'max 함수'만으로 구성된다.\n",
        "##### w1, w2는 가중치 '텐서'\n",
        "##### b1, b2는 편향 '텐서'이다.\n",
        "##### 이런 파라미터는 앞 절에서처럼 임의로 초기화된다."
      ],
      "metadata": {
        "id": "sk6pNYjX2tSz"
      }
    },
    {
      "cell_type": "code",
      "source": [
        "w1= init_params((28*28, 30))\n",
        "b1= init_params(30)\n",
        "w2= init_params((30, 1))\n",
        "b2= init_params(1)"
      ],
      "metadata": {
        "id": "MB8NlhLQ2QRl"
      },
      "execution_count": 21,
      "outputs": []
    },
    {
      "cell_type": "markdown",
      "source": [
        "### w1에는 출력 활성이 30개 있다는 점이 중요하다.\n",
        "##### * w2는 w1과 **맞물릴 수 있게** 입력 활성이 30개여야 한다."
      ],
      "metadata": {
        "id": "-nNRBAn-3aOr"
      }
    },
    {
      "cell_type": "markdown",
      "source": [
        "### res.max(tensor(0.0))함수는 **'ReLU 함수'**라고도 한다.\n",
        "##### * 모든 음숫값을 0으로 교체한다.\n",
        "##### ** 파이토치는 'F.relu'로 제공한다."
      ],
      "metadata": {
        "id": "UsQNRKVKQnfG"
      }
    },
    {
      "cell_type": "code",
      "source": [],
      "metadata": {
        "id": "a3vnCOSg3UpH"
      },
      "execution_count": null,
      "outputs": []
    }
  ]
}